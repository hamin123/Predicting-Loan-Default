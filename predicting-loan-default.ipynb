{
 "cells": [
  {
   "cell_type": "code",
   "execution_count": 1,
   "metadata": {
    "_cell_guid": "b1076dfc-b9ad-4769-8c92-a6c4dae69d19",
    "_uuid": "8f2839f25d086af736a60e9eeb907d3b93b6e0e5",
    "execution": {
     "iopub.execute_input": "2021-04-05T08:34:05.517150Z",
     "iopub.status.busy": "2021-04-05T08:34:05.516448Z",
     "iopub.status.idle": "2021-04-05T08:34:05.532004Z",
     "shell.execute_reply": "2021-04-05T08:34:05.531290Z"
    },
    "papermill": {
     "duration": 0.054663,
     "end_time": "2021-04-05T08:34:05.532143",
     "exception": false,
     "start_time": "2021-04-05T08:34:05.477480",
     "status": "completed"
    },
    "tags": []
   },
   "outputs": [
    {
     "name": "stdout",
     "output_type": "stream",
     "text": [
      "/kaggle/input/creditdefault/cr_loan2.csv\n",
      "/kaggle/input/credit-default/cr_loan_w2.csv\n",
      "/kaggle/input/credit-default/cr_loan_nout_nmiss.csv\n"
     ]
    }
   ],
   "source": [
    "# This Python 3 environment comes with many helpful analytics libraries installed\n",
    "# It is defined by the kaggle/python Docker image: https://github.com/kaggle/docker-python\n",
    "# For example, here's several helpful packages to load\n",
    "\n",
    "import numpy as np # linear algebra\n",
    "import pandas as pd # data processing, CSV file I/O (e.g. pd.read_csv)\n",
    "import matplotlib.pyplot as plt\n",
    "\n",
    "# Input data files are available in the read-only \"../input/\" directory\n",
    "# For example, running this (by clicking run or pressing Shift+Enter) will list all files under the input directory\n",
    "\n",
    "import os\n",
    "for dirname, _, filenames in os.walk('/kaggle/input'):\n",
    "    for filename in filenames:\n",
    "        print(os.path.join(dirname, filename))\n",
    "\n",
    "# You can write up to 5GB to the current directory (/kaggle/working/) that gets preserved as output when you create a version using \"Save & Run All\" \n",
    "# You can also write temporary files to /kaggle/temp/, but they won't be saved outside of the current session"
   ]
  },
  {
   "cell_type": "markdown",
   "metadata": {
    "papermill": {
     "duration": 0.029995,
     "end_time": "2021-04-05T08:34:05.595019",
     "exception": false,
     "start_time": "2021-04-05T08:34:05.565024",
     "status": "completed"
    },
    "tags": []
   },
   "source": [
    "# Steps to Solve the Loan Default Problem\n",
    "\n",
    "1. Problem Statement\n",
    "2. Exploratory Data Analysis\n",
    "3. Preprocessing\n",
    "4. Feature Selection and Importance\n",
    "5. Initial Classification for Exploration\n",
    "6. Improving Classification Performance with Cross Validation, Managing Dataset Imbalance etc\n",
    "7. Calculating Credit Risk\n",
    " "
   ]
  },
  {
   "cell_type": "markdown",
   "metadata": {
    "papermill": {
     "duration": 0.029949,
     "end_time": "2021-04-05T08:34:05.655383",
     "exception": false,
     "start_time": "2021-04-05T08:34:05.625434",
     "status": "completed"
    },
    "tags": []
   },
   "source": [
    "## Problem Statement | Predicting Loan Default\n",
    "\n",
    "Credit risk modeling refers to data driven risk models which calculates the chances of a borrower defaults on loan (or credit card). \n",
    "If a borrower fails to repay loan, how much amount he/she owes at the time of default and how much lender would lose from the outstanding amount. \n",
    "\n"
   ]
  },
  {
   "cell_type": "markdown",
   "metadata": {
    "papermill": {
     "duration": 0.030148,
     "end_time": "2021-04-05T08:34:05.716154",
     "exception": false,
     "start_time": "2021-04-05T08:34:05.686006",
     "status": "completed"
    },
    "tags": []
   },
   "source": [
    "# Initial Data Exploration(EDA)"
   ]
  },
  {
   "cell_type": "code",
   "execution_count": 2,
   "metadata": {
    "_cell_guid": "79c7e3d0-c299-4dcb-8224-4455121ee9b0",
    "_uuid": "d629ff2d2480ee46fbb7e2d37f6b5fab8052498a",
    "execution": {
     "iopub.execute_input": "2021-04-05T08:34:05.784613Z",
     "iopub.status.busy": "2021-04-05T08:34:05.783854Z",
     "iopub.status.idle": "2021-04-05T08:34:05.864611Z",
     "shell.execute_reply": "2021-04-05T08:34:05.865182Z"
    },
    "papermill": {
     "duration": 0.117482,
     "end_time": "2021-04-05T08:34:05.865342",
     "exception": false,
     "start_time": "2021-04-05T08:34:05.747860",
     "status": "completed"
    },
    "tags": []
   },
   "outputs": [],
   "source": [
    "cr_loan = pd.read_csv('../input/creditdefault/cr_loan2.csv')"
   ]
  },
  {
   "cell_type": "code",
   "execution_count": 3,
   "metadata": {
    "execution": {
     "iopub.execute_input": "2021-04-05T08:34:05.931267Z",
     "iopub.status.busy": "2021-04-05T08:34:05.930313Z",
     "iopub.status.idle": "2021-04-05T08:34:05.939752Z",
     "shell.execute_reply": "2021-04-05T08:34:05.939126Z"
    },
    "papermill": {
     "duration": 0.043446,
     "end_time": "2021-04-05T08:34:05.939858",
     "exception": false,
     "start_time": "2021-04-05T08:34:05.896412",
     "status": "completed"
    },
    "tags": []
   },
   "outputs": [
    {
     "name": "stdout",
     "output_type": "stream",
     "text": [
      "person_age                      int64\n",
      "person_income                   int64\n",
      "person_home_ownership          object\n",
      "person_emp_length             float64\n",
      "loan_intent                    object\n",
      "loan_grade                     object\n",
      "loan_amnt                       int64\n",
      "loan_int_rate                 float64\n",
      "loan_status                     int64\n",
      "loan_percent_income           float64\n",
      "cb_person_default_on_file      object\n",
      "cb_person_cred_hist_length      int64\n",
      "dtype: object\n"
     ]
    }
   ],
   "source": [
    "# Structure of the data\n",
    "print(cr_loan.dtypes)\n"
   ]
  },
  {
   "cell_type": "code",
   "execution_count": 4,
   "metadata": {
    "execution": {
     "iopub.execute_input": "2021-04-05T08:34:06.016007Z",
     "iopub.status.busy": "2021-04-05T08:34:06.015166Z",
     "iopub.status.idle": "2021-04-05T08:34:06.018181Z",
     "shell.execute_reply": "2021-04-05T08:34:06.018888Z"
    },
    "papermill": {
     "duration": 0.048004,
     "end_time": "2021-04-05T08:34:06.019043",
     "exception": false,
     "start_time": "2021-04-05T08:34:05.971039",
     "status": "completed"
    },
    "tags": []
   },
   "outputs": [
    {
     "name": "stdout",
     "output_type": "stream",
     "text": [
      "   person_age  person_income person_home_ownership  person_emp_length  \\\n",
      "0          22          59000                  RENT              123.0   \n",
      "1          21           9600                   OWN                5.0   \n",
      "2          25           9600              MORTGAGE                1.0   \n",
      "3          23          65500                  RENT                4.0   \n",
      "4          24          54400                  RENT                8.0   \n",
      "\n",
      "  loan_intent loan_grade  loan_amnt  loan_int_rate  loan_status  \\\n",
      "0    PERSONAL          D      35000          16.02            1   \n",
      "1   EDUCATION          B       1000          11.14            0   \n",
      "2     MEDICAL          C       5500          12.87            1   \n",
      "3     MEDICAL          C      35000          15.23            1   \n",
      "4     MEDICAL          C      35000          14.27            1   \n",
      "\n",
      "   loan_percent_income cb_person_default_on_file  cb_person_cred_hist_length  \n",
      "0                 0.59                         Y                           3  \n",
      "1                 0.10                         N                           2  \n",
      "2                 0.57                         N                           3  \n",
      "3                 0.53                         N                           2  \n",
      "4                 0.55                         Y                           4  \n"
     ]
    }
   ],
   "source": [
    "# Check the first five rows of the data\n",
    "print(cr_loan.head(5))\n"
   ]
  },
  {
   "cell_type": "code",
   "execution_count": 5,
   "metadata": {
    "execution": {
     "iopub.execute_input": "2021-04-05T08:34:06.089707Z",
     "iopub.status.busy": "2021-04-05T08:34:06.088891Z",
     "iopub.status.idle": "2021-04-05T08:34:06.490139Z",
     "shell.execute_reply": "2021-04-05T08:34:06.489505Z"
    },
    "papermill": {
     "duration": 0.438582,
     "end_time": "2021-04-05T08:34:06.490250",
     "exception": false,
     "start_time": "2021-04-05T08:34:06.051668",
     "status": "completed"
    },
    "tags": []
   },
   "outputs": [
    {
     "data": {
      "image/png": "[encoded data removed]",
      "text/plain": [
       "<Figure size 432x288 with 1 Axes>"
      ]
     },
     "metadata": {
      "needs_background": "light"
     },
     "output_type": "display_data"
    }
   ],
   "source": [
    "# Look at the distribution of loan amounts with a histogram\n",
    "n, bins, patches = plt.hist(x=cr_loan['loan_amnt'], bins='auto', color='blue',alpha=0.7, rwidth=0.85)\n",
    "plt.xlabel(\"Loan Amount\")\n",
    "plt.show()\n"
   ]
  },
  {
   "cell_type": "code",
   "execution_count": 6,
   "metadata": {
    "execution": {
     "iopub.execute_input": "2021-04-05T08:34:06.571364Z",
     "iopub.status.busy": "2021-04-05T08:34:06.569961Z",
     "iopub.status.idle": "2021-04-05T08:34:06.815893Z",
     "shell.execute_reply": "2021-04-05T08:34:06.814762Z"
    },
    "papermill": {
     "duration": 0.29288,
     "end_time": "2021-04-05T08:34:06.816060",
     "exception": false,
     "start_time": "2021-04-05T08:34:06.523180",
     "status": "completed"
    },
    "tags": []
   },
   "outputs": [
    {
     "name": "stdout",
     "output_type": "stream",
     "text": [
      "There are 32 000 rows of data so the scatter plot may take a little while to plot.\n"
     ]
    },
    {
     "data": {
      "image/png": "[encoded data removed]",
      "text/plain": [
       "<Figure size 432x288 with 1 Axes>"
      ]
     },
     "metadata": {
      "needs_background": "light"
     },
     "output_type": "display_data"
    }
   ],
   "source": [
    "print(\"There are 32 000 rows of data so the scatter plot may take a little while to plot.\")\n",
    "# Plot a scatter plot of income against age\n",
    "plt.scatter(cr_loan['person_income'], cr_loan['person_age'],c='blue',alpha=0.5)\n",
    "plt.xlabel('Personal Income')\n",
    "plt.ylabel('Persone Age')\n",
    "plt.show()\n"
   ]
  },
  {
   "cell_type": "markdown",
   "metadata": {
    "papermill": {
     "duration": 0.034031,
     "end_time": "2021-04-05T08:34:06.890128",
     "exception": false,
     "start_time": "2021-04-05T08:34:06.856097",
     "status": "completed"
    },
    "tags": []
   },
   "source": [
    "## Analysis of Loan Status\n",
    "\n",
    "The pandas crosstab function builds a cross-tabulation table that can show the frequency with which certain groups of data appear. Here we see count of loan status for different loan intent."
   ]
  },
  {
   "cell_type": "code",
   "execution_count": 7,
   "metadata": {
    "execution": {
     "iopub.execute_input": "2021-04-05T08:34:06.975196Z",
     "iopub.status.busy": "2021-04-05T08:34:06.974156Z",
     "iopub.status.idle": "2021-04-05T08:34:07.097824Z",
     "shell.execute_reply": "2021-04-05T08:34:07.098366Z"
    },
    "papermill": {
     "duration": 0.166183,
     "end_time": "2021-04-05T08:34:07.098506",
     "exception": false,
     "start_time": "2021-04-05T08:34:06.932323",
     "status": "completed"
    },
    "tags": []
   },
   "outputs": [
    {
     "name": "stdout",
     "output_type": "stream",
     "text": [
      "loan_status            0     1    All\n",
      "loan_intent                          \n",
      "DEBTCONSOLIDATION   3722  1490   5212\n",
      "EDUCATION           5342  1111   6453\n",
      "HOMEIMPROVEMENT     2664   941   3605\n",
      "MEDICAL             4450  1621   6071\n",
      "PERSONAL            4423  1098   5521\n",
      "VENTURE             4872   847   5719\n",
      "All                25473  7108  32581\n"
     ]
    }
   ],
   "source": [
    "# Create a cross table of the loan intent and loan status\n",
    "print(pd.crosstab(cr_loan['loan_intent'],cr_loan['loan_status'],margins = True))\n"
   ]
  },
  {
   "cell_type": "code",
   "execution_count": 8,
   "metadata": {
    "execution": {
     "iopub.execute_input": "2021-04-05T08:34:07.175993Z",
     "iopub.status.busy": "2021-04-05T08:34:07.174955Z",
     "iopub.status.idle": "2021-04-05T08:34:07.208555Z",
     "shell.execute_reply": "2021-04-05T08:34:07.207902Z"
    },
    "papermill": {
     "duration": 0.074656,
     "end_time": "2021-04-05T08:34:07.208666",
     "exception": false,
     "start_time": "2021-04-05T08:34:07.134010",
     "status": "completed"
    },
    "tags": []
   },
   "outputs": [
    {
     "name": "stdout",
     "output_type": "stream",
     "text": [
      "loan_status               0                                 1             \\\n",
      "loan_grade                A     B     C    D    E   F  G    A     B    C   \n",
      "person_home_ownership                                                      \n",
      "MORTGAGE               5219  3729  1934  658  178  36  0  239   324  321   \n",
      "OTHER                    23    29    11    9    2   0  0    3     5    6   \n",
      "OWN                     860   770   464  264   26   7  0   66    34   31   \n",
      "RENT                   3602  4222  2710  554  137  28  1  765  1338  981   \n",
      "\n",
      "loan_status                               \n",
      "loan_grade                D    E   F   G  \n",
      "person_home_ownership                     \n",
      "MORTGAGE                553  161  61  31  \n",
      "OTHER                    11    6   2   0  \n",
      "OWN                      18   31   8   5  \n",
      "RENT                   1559  423  99  27  \n"
     ]
    }
   ],
   "source": [
    "# Create a cross table of home ownership, loan status, and grade\n",
    "print(pd.crosstab(cr_loan['person_home_ownership'],[cr_loan['loan_status'],cr_loan['loan_grade']]))\n"
   ]
  },
  {
   "cell_type": "code",
   "execution_count": 9,
   "metadata": {
    "execution": {
     "iopub.execute_input": "2021-04-05T08:34:07.288768Z",
     "iopub.status.busy": "2021-04-05T08:34:07.288070Z",
     "iopub.status.idle": "2021-04-05T08:34:07.312430Z",
     "shell.execute_reply": "2021-04-05T08:34:07.311524Z"
    },
    "papermill": {
     "duration": 0.068947,
     "end_time": "2021-04-05T08:34:07.312599",
     "exception": false,
     "start_time": "2021-04-05T08:34:07.243652",
     "status": "completed"
    },
    "tags": []
   },
   "outputs": [
    {
     "name": "stdout",
     "output_type": "stream",
     "text": [
      "loan_status                   0         1\n",
      "person_home_ownership                    \n",
      "MORTGAGE               0.146504  0.184882\n",
      "OTHER                  0.143784  0.300000\n",
      "OWN                    0.180013  0.297358\n",
      "RENT                   0.144611  0.264859\n"
     ]
    }
   ],
   "source": [
    "# Create a cross table of home ownership, loan status, and average percent income\n",
    "print(pd.crosstab(cr_loan['person_home_ownership'],cr_loan['loan_status'],values=cr_loan['loan_percent_income'],aggfunc='mean'))\n"
   ]
  },
  {
   "cell_type": "code",
   "execution_count": 10,
   "metadata": {
    "execution": {
     "iopub.execute_input": "2021-04-05T08:34:07.401602Z",
     "iopub.status.busy": "2021-04-05T08:34:07.400398Z",
     "iopub.status.idle": "2021-04-05T08:34:07.418814Z",
     "shell.execute_reply": "2021-04-05T08:34:07.419537Z"
    },
    "papermill": {
     "duration": 0.065596,
     "end_time": "2021-04-05T08:34:07.419716",
     "exception": false,
     "start_time": "2021-04-05T08:34:07.354120",
     "status": "completed"
    },
    "tags": []
   },
   "outputs": [
    {
     "name": "stdout",
     "output_type": "stream",
     "text": [
      "person_home_ownership  MORTGAGE  OTHER   OWN   RENT\n",
      "loan_status                                        \n",
      "0                         123.0   24.0  31.0   41.0\n",
      "1                          34.0   11.0  17.0  123.0\n"
     ]
    }
   ],
   "source": [
    "# Create the cross table for loan status, home ownership, and the max employment length\n",
    "print(pd.crosstab(cr_loan['loan_status'],cr_loan['person_home_ownership'],values=cr_loan['person_emp_length'],aggfunc='max'))\n"
   ]
  },
  {
   "cell_type": "markdown",
   "metadata": {
    "papermill": {
     "duration": 0.035613,
     "end_time": "2021-04-05T08:34:07.491319",
     "exception": false,
     "start_time": "2021-04-05T08:34:07.455706",
     "status": "completed"
    },
    "tags": []
   },
   "source": [
    "## Scatter Plots"
   ]
  },
  {
   "cell_type": "code",
   "execution_count": 11,
   "metadata": {
    "execution": {
     "iopub.execute_input": "2021-04-05T08:34:07.572348Z",
     "iopub.status.busy": "2021-04-05T08:34:07.571333Z",
     "iopub.status.idle": "2021-04-05T08:34:07.796782Z",
     "shell.execute_reply": "2021-04-05T08:34:07.797281Z"
    },
    "papermill": {
     "duration": 0.270028,
     "end_time": "2021-04-05T08:34:07.797427",
     "exception": false,
     "start_time": "2021-04-05T08:34:07.527399",
     "status": "completed"
    },
    "tags": []
   },
   "outputs": [
    {
     "data": {
      "image/png": "[encoded data removed]",
      "text/plain": [
       "<Figure size 432x288 with 1 Axes>"
      ]
     },
     "metadata": {
      "needs_background": "light"
     },
     "output_type": "display_data"
    }
   ],
   "source": [
    "# Create the scatter plot for age and amount\n",
    "plt.scatter(cr_loan['person_age'], cr_loan['loan_amnt'], c='blue', alpha=0.5)\n",
    "plt.xlabel(\"Person Age\")\n",
    "plt.ylabel(\"Loan Amount\")\n",
    "plt.show()\n"
   ]
  },
  {
   "cell_type": "code",
   "execution_count": 12,
   "metadata": {
    "execution": {
     "iopub.execute_input": "2021-04-05T08:34:07.876056Z",
     "iopub.status.busy": "2021-04-05T08:34:07.875314Z",
     "iopub.status.idle": "2021-04-05T08:34:08.598187Z",
     "shell.execute_reply": "2021-04-05T08:34:08.597102Z"
    },
    "papermill": {
     "duration": 0.763041,
     "end_time": "2021-04-05T08:34:08.598312",
     "exception": false,
     "start_time": "2021-04-05T08:34:07.835271",
     "status": "completed"
    },
    "tags": []
   },
   "outputs": [
    {
     "data": {
      "image/png": "[encoded data removed]",
      "text/plain": [
       "<Figure size 432x288 with 1 Axes>"
      ]
     },
     "metadata": {
      "needs_background": "light"
     },
     "output_type": "display_data"
    }
   ],
   "source": [
    "import matplotlib\n",
    "# Use Pandas to drop the record from the data frame and create a new one\n",
    "cr_loan_new=cr_loan.drop(cr_loan[cr_loan['person_age']>100].index)\n",
    "# Create a scatter plot of age and interest rate\n",
    "colors=[\"blue\",\"red\"]\n",
    "plt.scatter(cr_loan_new['person_age'],cr_loan_new['loan_int_rate'],c=cr_loan_new['loan_status'],cmap=matplotlib.colors.ListedColormap(colors),alpha=0.5)\n",
    "plt.xlabel(\"Person Age\")\n",
    "plt.ylabel(\"Loan Interest Rate\")\n",
    "plt.show()\n"
   ]
  },
  {
   "cell_type": "markdown",
   "metadata": {
    "papermill": {
     "duration": 0.03971,
     "end_time": "2021-04-05T08:34:08.677757",
     "exception": false,
     "start_time": "2021-04-05T08:34:08.638047",
     "status": "completed"
    },
    "tags": []
   },
   "source": [
    "## Replacing Missing Values"
   ]
  },
  {
   "cell_type": "code",
   "execution_count": 13,
   "metadata": {
    "execution": {
     "iopub.execute_input": "2021-04-05T08:34:08.778927Z",
     "iopub.status.busy": "2021-04-05T08:34:08.764103Z",
     "iopub.status.idle": "2021-04-05T08:34:09.631907Z",
     "shell.execute_reply": "2021-04-05T08:34:09.632506Z"
    },
    "papermill": {
     "duration": 0.915779,
     "end_time": "2021-04-05T08:34:09.632653",
     "exception": false,
     "start_time": "2021-04-05T08:34:08.716874",
     "status": "completed"
    },
    "tags": []
   },
   "outputs": [
    {
     "name": "stdout",
     "output_type": "stream",
     "text": [
      "Index(['person_emp_length', 'loan_int_rate'], dtype='object')\n",
      "     person_age  person_income person_home_ownership  person_emp_length  \\\n",
      "105          22          12600              MORTGAGE                NaN   \n",
      "222          24         185000              MORTGAGE                NaN   \n",
      "379          24          16800              MORTGAGE                NaN   \n",
      "407          25          52000                  RENT                NaN   \n",
      "408          22          17352              MORTGAGE                NaN   \n",
      "\n",
      "           loan_intent loan_grade  loan_amnt  loan_int_rate  loan_status  \\\n",
      "105           PERSONAL          A       2000           5.42            1   \n",
      "222          EDUCATION          B      35000          12.42            0   \n",
      "379  DEBTCONSOLIDATION          A       3900            NaN            1   \n",
      "407           PERSONAL          B      24000          10.74            1   \n",
      "408          EDUCATION          C       2250          15.27            0   \n",
      "\n",
      "     loan_percent_income cb_person_default_on_file  cb_person_cred_hist_length  \n",
      "105                 0.16                         N                           4  \n",
      "222                 0.19                         N                           2  \n",
      "379                 0.23                         N                           3  \n",
      "407                 0.46                         N                           2  \n",
      "408                 0.13                         Y                           3  \n"
     ]
    },
    {
     "data": {
      "image/png": "[encoded data removed]",
      "text/plain": [
       "<Figure size 432x288 with 1 Axes>"
      ]
     },
     "metadata": {
      "needs_background": "light"
     },
     "output_type": "display_data"
    }
   ],
   "source": [
    "# Print an array of columns with null values\n",
    "print(cr_loan.columns[cr_loan.isnull().any()])\n",
    "# Print the top five rows with nulls for employment length\n",
    "print(cr_loan[cr_loan['person_emp_length'].isnull()].head())\n",
    "# Replace the null values with the median value for all employment lengths\n",
    "cr_loan['person_emp_length'].fillna((cr_loan['person_emp_length'].median()),inplace=True)\n",
    "# Create a histogram of employment length\n",
    "n,bins,patches=plt.hist(cr_loan['person_emp_length'],bins='auto',color='blue')\n",
    "plt.xlabel(\"Person Employment Length\")\n",
    "plt.show()\n"
   ]
  },
  {
   "cell_type": "code",
   "execution_count": 14,
   "metadata": {
    "execution": {
     "iopub.execute_input": "2021-04-05T08:34:09.721616Z",
     "iopub.status.busy": "2021-04-05T08:34:09.720950Z",
     "iopub.status.idle": "2021-04-05T08:34:09.731789Z",
     "shell.execute_reply": "2021-04-05T08:34:09.732257Z"
    },
    "papermill": {
     "duration": 0.058443,
     "end_time": "2021-04-05T08:34:09.732394",
     "exception": false,
     "start_time": "2021-04-05T08:34:09.673951",
     "status": "completed"
    },
    "tags": []
   },
   "outputs": [
    {
     "name": "stdout",
     "output_type": "stream",
     "text": [
      "3116\n"
     ]
    }
   ],
   "source": [
    "# Print the number of nulls\n",
    "print(cr_loan['loan_int_rate'].isnull().sum())\n",
    "# Store the array on indices\n",
    "indices=cr_loan[cr_loan['loan_int_rate'].isnull()].index\n",
    "# Save the new data without missing data\n",
    "cr_loan_clean=cr_loan.drop(indices)\n"
   ]
  },
  {
   "cell_type": "markdown",
   "metadata": {
    "papermill": {
     "duration": 0.042809,
     "end_time": "2021-04-05T08:34:09.816272",
     "exception": false,
     "start_time": "2021-04-05T08:34:09.773463",
     "status": "completed"
    },
    "tags": []
   },
   "source": [
    "## Applying One-Hot Encoding on Categorical Columns"
   ]
  },
  {
   "cell_type": "code",
   "execution_count": 15,
   "metadata": {
    "execution": {
     "iopub.execute_input": "2021-04-05T08:34:09.914305Z",
     "iopub.status.busy": "2021-04-05T08:34:09.913471Z",
     "iopub.status.idle": "2021-04-05T08:34:09.940808Z",
     "shell.execute_reply": "2021-04-05T08:34:09.941319Z"
    },
    "papermill": {
     "duration": 0.083018,
     "end_time": "2021-04-05T08:34:09.941454",
     "exception": false,
     "start_time": "2021-04-05T08:34:09.858436",
     "status": "completed"
    },
    "tags": []
   },
   "outputs": [
    {
     "name": "stdout",
     "output_type": "stream",
     "text": [
      "Index(['person_age', 'person_income', 'person_emp_length', 'loan_amnt',\n",
      "       'loan_int_rate', 'loan_status', 'loan_percent_income',\n",
      "       'cb_person_cred_hist_length', 'person_home_ownership_MORTGAGE',\n",
      "       'person_home_ownership_OTHER', 'person_home_ownership_OWN',\n",
      "       'person_home_ownership_RENT', 'loan_intent_DEBTCONSOLIDATION',\n",
      "       'loan_intent_EDUCATION', 'loan_intent_HOMEIMPROVEMENT',\n",
      "       'loan_intent_MEDICAL', 'loan_intent_PERSONAL', 'loan_intent_VENTURE',\n",
      "       'loan_grade_A', 'loan_grade_B', 'loan_grade_C', 'loan_grade_D',\n",
      "       'loan_grade_E', 'loan_grade_F', 'loan_grade_G',\n",
      "       'cb_person_default_on_file_N', 'cb_person_default_on_file_Y'],\n",
      "      dtype='object')\n"
     ]
    }
   ],
   "source": [
    "# Create two data sets for numeric and non-numeric data\n",
    "cred_num=cr_loan_clean.select_dtypes(exclude=['object'])\n",
    "cred_str=cr_loan_clean.select_dtypes(include=['object'])\n",
    "# One-hot encode the non-numeric columns\n",
    "cred_str_onehot=pd.get_dummies(cred_str)\n",
    "# Union the one-hot encoded columns to the numeric ones\n",
    "cr_loan_prep=pd.concat([cred_num,cred_str_onehot],axis=1)\n",
    "# Print the columns in the new data set\n",
    "print(cr_loan_prep.columns)\n"
   ]
  },
  {
   "cell_type": "markdown",
   "metadata": {
    "papermill": {
     "duration": 0.041892,
     "end_time": "2021-04-05T08:34:10.026040",
     "exception": false,
     "start_time": "2021-04-05T08:34:09.984148",
     "status": "completed"
    },
    "tags": []
   },
   "source": [
    "## Data Preparation "
   ]
  },
  {
   "cell_type": "code",
   "execution_count": 16,
   "metadata": {
    "execution": {
     "iopub.execute_input": "2021-04-05T08:34:10.118303Z",
     "iopub.status.busy": "2021-04-05T08:34:10.117623Z",
     "iopub.status.idle": "2021-04-05T08:34:10.148871Z",
     "shell.execute_reply": "2021-04-05T08:34:10.148186Z"
    },
    "papermill": {
     "duration": 0.080726,
     "end_time": "2021-04-05T08:34:10.148999",
     "exception": false,
     "start_time": "2021-04-05T08:34:10.068273",
     "status": "completed"
    },
    "tags": []
   },
   "outputs": [
    {
     "data": {
      "text/html": [
       "<div>\n",
       "<style scoped>\n",
       "    .dataframe tbody tr th:only-of-type {\n",
       "        vertical-align: middle;\n",
       "    }\n",
       "\n",
       "    .dataframe tbody tr th {\n",
       "        vertical-align: top;\n",
       "    }\n",
       "\n",
       "    .dataframe thead th {\n",
       "        text-align: right;\n",
       "    }\n",
       "</style>\n",
       "<table border=\"1\" class=\"dataframe\">\n",
       "  <thead>\n",
       "    <tr style=\"text-align: right;\">\n",
       "      <th></th>\n",
       "      <th>person_age</th>\n",
       "      <th>person_income</th>\n",
       "      <th>person_emp_length</th>\n",
       "      <th>loan_amnt</th>\n",
       "      <th>loan_int_rate</th>\n",
       "      <th>loan_percent_income</th>\n",
       "      <th>cb_person_cred_hist_length</th>\n",
       "      <th>person_home_ownership_MORTGAGE</th>\n",
       "      <th>person_home_ownership_OTHER</th>\n",
       "      <th>person_home_ownership_OWN</th>\n",
       "      <th>...</th>\n",
       "      <th>loan_intent_VENTURE</th>\n",
       "      <th>loan_grade_A</th>\n",
       "      <th>loan_grade_B</th>\n",
       "      <th>loan_grade_C</th>\n",
       "      <th>loan_grade_D</th>\n",
       "      <th>loan_grade_E</th>\n",
       "      <th>loan_grade_F</th>\n",
       "      <th>loan_grade_G</th>\n",
       "      <th>cb_person_default_on_file_N</th>\n",
       "      <th>cb_person_default_on_file_Y</th>\n",
       "    </tr>\n",
       "  </thead>\n",
       "  <tbody>\n",
       "    <tr>\n",
       "      <th>0</th>\n",
       "      <td>22</td>\n",
       "      <td>59000</td>\n",
       "      <td>123.0</td>\n",
       "      <td>35000</td>\n",
       "      <td>16.02</td>\n",
       "      <td>0.59</td>\n",
       "      <td>3</td>\n",
       "      <td>0</td>\n",
       "      <td>0</td>\n",
       "      <td>0</td>\n",
       "      <td>...</td>\n",
       "      <td>0</td>\n",
       "      <td>0</td>\n",
       "      <td>0</td>\n",
       "      <td>0</td>\n",
       "      <td>1</td>\n",
       "      <td>0</td>\n",
       "      <td>0</td>\n",
       "      <td>0</td>\n",
       "      <td>0</td>\n",
       "      <td>1</td>\n",
       "    </tr>\n",
       "    <tr>\n",
       "      <th>1</th>\n",
       "      <td>21</td>\n",
       "      <td>9600</td>\n",
       "      <td>5.0</td>\n",
       "      <td>1000</td>\n",
       "      <td>11.14</td>\n",
       "      <td>0.10</td>\n",
       "      <td>2</td>\n",
       "      <td>0</td>\n",
       "      <td>0</td>\n",
       "      <td>1</td>\n",
       "      <td>...</td>\n",
       "      <td>0</td>\n",
       "      <td>0</td>\n",
       "      <td>1</td>\n",
       "      <td>0</td>\n",
       "      <td>0</td>\n",
       "      <td>0</td>\n",
       "      <td>0</td>\n",
       "      <td>0</td>\n",
       "      <td>1</td>\n",
       "      <td>0</td>\n",
       "    </tr>\n",
       "    <tr>\n",
       "      <th>2</th>\n",
       "      <td>25</td>\n",
       "      <td>9600</td>\n",
       "      <td>1.0</td>\n",
       "      <td>5500</td>\n",
       "      <td>12.87</td>\n",
       "      <td>0.57</td>\n",
       "      <td>3</td>\n",
       "      <td>1</td>\n",
       "      <td>0</td>\n",
       "      <td>0</td>\n",
       "      <td>...</td>\n",
       "      <td>0</td>\n",
       "      <td>0</td>\n",
       "      <td>0</td>\n",
       "      <td>1</td>\n",
       "      <td>0</td>\n",
       "      <td>0</td>\n",
       "      <td>0</td>\n",
       "      <td>0</td>\n",
       "      <td>1</td>\n",
       "      <td>0</td>\n",
       "    </tr>\n",
       "    <tr>\n",
       "      <th>3</th>\n",
       "      <td>23</td>\n",
       "      <td>65500</td>\n",
       "      <td>4.0</td>\n",
       "      <td>35000</td>\n",
       "      <td>15.23</td>\n",
       "      <td>0.53</td>\n",
       "      <td>2</td>\n",
       "      <td>0</td>\n",
       "      <td>0</td>\n",
       "      <td>0</td>\n",
       "      <td>...</td>\n",
       "      <td>0</td>\n",
       "      <td>0</td>\n",
       "      <td>0</td>\n",
       "      <td>1</td>\n",
       "      <td>0</td>\n",
       "      <td>0</td>\n",
       "      <td>0</td>\n",
       "      <td>0</td>\n",
       "      <td>1</td>\n",
       "      <td>0</td>\n",
       "    </tr>\n",
       "    <tr>\n",
       "      <th>4</th>\n",
       "      <td>24</td>\n",
       "      <td>54400</td>\n",
       "      <td>8.0</td>\n",
       "      <td>35000</td>\n",
       "      <td>14.27</td>\n",
       "      <td>0.55</td>\n",
       "      <td>4</td>\n",
       "      <td>0</td>\n",
       "      <td>0</td>\n",
       "      <td>0</td>\n",
       "      <td>...</td>\n",
       "      <td>0</td>\n",
       "      <td>0</td>\n",
       "      <td>0</td>\n",
       "      <td>1</td>\n",
       "      <td>0</td>\n",
       "      <td>0</td>\n",
       "      <td>0</td>\n",
       "      <td>0</td>\n",
       "      <td>0</td>\n",
       "      <td>1</td>\n",
       "    </tr>\n",
       "  </tbody>\n",
       "</table>\n",
       "<p>5 rows × 26 columns</p>\n",
       "</div>"
      ],
      "text/plain": [
       "   person_age  person_income  person_emp_length  loan_amnt  loan_int_rate  \\\n",
       "0          22          59000              123.0      35000          16.02   \n",
       "1          21           9600                5.0       1000          11.14   \n",
       "2          25           9600                1.0       5500          12.87   \n",
       "3          23          65500                4.0      35000          15.23   \n",
       "4          24          54400                8.0      35000          14.27   \n",
       "\n",
       "   loan_percent_income  cb_person_cred_hist_length  \\\n",
       "0                 0.59                           3   \n",
       "1                 0.10                           2   \n",
       "2                 0.57                           3   \n",
       "3                 0.53                           2   \n",
       "4                 0.55                           4   \n",
       "\n",
       "   person_home_ownership_MORTGAGE  person_home_ownership_OTHER  \\\n",
       "0                               0                            0   \n",
       "1                               0                            0   \n",
       "2                               1                            0   \n",
       "3                               0                            0   \n",
       "4                               0                            0   \n",
       "\n",
       "   person_home_ownership_OWN  ...  loan_intent_VENTURE  loan_grade_A  \\\n",
       "0                          0  ...                    0             0   \n",
       "1                          1  ...                    0             0   \n",
       "2                          0  ...                    0             0   \n",
       "3                          0  ...                    0             0   \n",
       "4                          0  ...                    0             0   \n",
       "\n",
       "   loan_grade_B  loan_grade_C  loan_grade_D  loan_grade_E  loan_grade_F  \\\n",
       "0             0             0             1             0             0   \n",
       "1             1             0             0             0             0   \n",
       "2             0             1             0             0             0   \n",
       "3             0             1             0             0             0   \n",
       "4             0             1             0             0             0   \n",
       "\n",
       "   loan_grade_G  cb_person_default_on_file_N  cb_person_default_on_file_Y  \n",
       "0             0                            0                            1  \n",
       "1             0                            1                            0  \n",
       "2             0                            1                            0  \n",
       "3             0                            1                            0  \n",
       "4             0                            0                            1  \n",
       "\n",
       "[5 rows x 26 columns]"
      ]
     },
     "execution_count": 16,
     "metadata": {},
     "output_type": "execute_result"
    }
   ],
   "source": [
    "y = cr_loan_prep['loan_status'].copy()\n",
    "df= cr_loan_prep.drop(['loan_status'],axis=1)\n",
    "X=df.copy()\n",
    "X.head()"
   ]
  },
  {
   "cell_type": "code",
   "execution_count": 17,
   "metadata": {
    "execution": {
     "iopub.execute_input": "2021-04-05T08:34:10.239957Z",
     "iopub.status.busy": "2021-04-05T08:34:10.239124Z",
     "iopub.status.idle": "2021-04-05T08:34:11.306921Z",
     "shell.execute_reply": "2021-04-05T08:34:11.306317Z"
    },
    "papermill": {
     "duration": 1.115114,
     "end_time": "2021-04-05T08:34:11.307044",
     "exception": false,
     "start_time": "2021-04-05T08:34:10.191930",
     "status": "completed"
    },
    "tags": []
   },
   "outputs": [],
   "source": [
    "from sklearn.model_selection import train_test_split\n",
    "# Use test_train_split to create the training and test sets\n",
    "X_train,X_test,y_train,y_test=train_test_split(X,y,test_size=.4,random_state=123)\n"
   ]
  },
  {
   "cell_type": "markdown",
   "metadata": {
    "papermill": {
     "duration": 0.044089,
     "end_time": "2021-04-05T08:34:11.394306",
     "exception": false,
     "start_time": "2021-04-05T08:34:11.350217",
     "status": "completed"
    },
    "tags": []
   },
   "source": [
    "## Using Trees for Defaults Detection\n",
    "\n",
    "You will now train a gradient boosted tree model on the credit data, and see a sample of some of the predictions. \n"
   ]
  },
  {
   "cell_type": "code",
   "execution_count": 18,
   "metadata": {
    "execution": {
     "iopub.execute_input": "2021-04-05T08:34:11.488168Z",
     "iopub.status.busy": "2021-04-05T08:34:11.487292Z",
     "iopub.status.idle": "2021-04-05T08:34:13.491502Z",
     "shell.execute_reply": "2021-04-05T08:34:13.492219Z"
    },
    "papermill": {
     "duration": 2.055397,
     "end_time": "2021-04-05T08:34:13.492388",
     "exception": false,
     "start_time": "2021-04-05T08:34:11.436991",
     "status": "completed"
    },
    "tags": []
   },
   "outputs": [
    {
     "name": "stdout",
     "output_type": "stream",
     "text": [
      "   loan_status  prob_default\n",
      "0            0      0.069717\n",
      "1            0      0.000514\n",
      "2            0      0.001946\n",
      "3            0      0.045644\n",
      "4            0      0.432617\n"
     ]
    }
   ],
   "source": [
    "# Train a model\n",
    "import xgboost as xgb\n",
    "\n",
    "clf_gbt = xgb.XGBClassifier().fit(X_train, np.ravel(y_train))\n",
    "\n",
    "# Predict with a model\n",
    "gbt_preds = clf_gbt.predict_proba(X_test)\n",
    "\n",
    "# Create dataframes of first five predictions, and first five true labels\n",
    "preds_df = pd.DataFrame(gbt_preds[:,1][0:5],columns = ['prob_default'])\n",
    "true_df = y_test.head()\n",
    "# Concatenate and print the two data frames for comparison\n",
    "print(pd.concat([true_df.reset_index(drop=True),preds_df],axis=1))\n"
   ]
  },
  {
   "cell_type": "code",
   "execution_count": 19,
   "metadata": {
    "execution": {
     "iopub.execute_input": "2021-04-05T08:34:13.610875Z",
     "iopub.status.busy": "2021-04-05T08:34:13.609915Z",
     "iopub.status.idle": "2021-04-05T08:34:13.617664Z",
     "shell.execute_reply": "2021-04-05T08:34:13.618410Z"
    },
    "papermill": {
     "duration": 0.07021,
     "end_time": "2021-04-05T08:34:13.618571",
     "exception": false,
     "start_time": "2021-04-05T08:34:13.548361",
     "status": "completed"
    },
    "tags": []
   },
   "outputs": [
    {
     "data": {
      "text/html": [
       "<div>\n",
       "<style scoped>\n",
       "    .dataframe tbody tr th:only-of-type {\n",
       "        vertical-align: middle;\n",
       "    }\n",
       "\n",
       "    .dataframe tbody tr th {\n",
       "        vertical-align: top;\n",
       "    }\n",
       "\n",
       "    .dataframe thead th {\n",
       "        text-align: right;\n",
       "    }\n",
       "</style>\n",
       "<table border=\"1\" class=\"dataframe\">\n",
       "  <thead>\n",
       "    <tr style=\"text-align: right;\">\n",
       "      <th></th>\n",
       "      <th>prob_default</th>\n",
       "    </tr>\n",
       "  </thead>\n",
       "  <tbody>\n",
       "    <tr>\n",
       "      <th>0</th>\n",
       "      <td>0.069717</td>\n",
       "    </tr>\n",
       "    <tr>\n",
       "      <th>1</th>\n",
       "      <td>0.000514</td>\n",
       "    </tr>\n",
       "    <tr>\n",
       "      <th>2</th>\n",
       "      <td>0.001946</td>\n",
       "    </tr>\n",
       "    <tr>\n",
       "      <th>3</th>\n",
       "      <td>0.045644</td>\n",
       "    </tr>\n",
       "    <tr>\n",
       "      <th>4</th>\n",
       "      <td>0.432617</td>\n",
       "    </tr>\n",
       "  </tbody>\n",
       "</table>\n",
       "</div>"
      ],
      "text/plain": [
       "   prob_default\n",
       "0      0.069717\n",
       "1      0.000514\n",
       "2      0.001946\n",
       "3      0.045644\n",
       "4      0.432617"
      ]
     },
     "execution_count": 19,
     "metadata": {},
     "output_type": "execute_result"
    }
   ],
   "source": [
    "preds_df.head()"
   ]
  },
  {
   "cell_type": "markdown",
   "metadata": {
    "papermill": {
     "duration": 0.045557,
     "end_time": "2021-04-05T08:34:13.721219",
     "exception": false,
     "start_time": "2021-04-05T08:34:13.675662",
     "status": "completed"
    },
    "tags": []
   },
   "source": [
    "# Default Classification Reporting"
   ]
  },
  {
   "cell_type": "code",
   "execution_count": 20,
   "metadata": {
    "execution": {
     "iopub.execute_input": "2021-04-05T08:34:13.830558Z",
     "iopub.status.busy": "2021-04-05T08:34:13.829475Z",
     "iopub.status.idle": "2021-04-05T08:34:13.857083Z",
     "shell.execute_reply": "2021-04-05T08:34:13.857607Z"
    },
    "papermill": {
     "duration": 0.091788,
     "end_time": "2021-04-05T08:34:13.857762",
     "exception": false,
     "start_time": "2021-04-05T08:34:13.765974",
     "status": "completed"
    },
    "tags": []
   },
   "outputs": [
    {
     "name": "stdout",
     "output_type": "stream",
     "text": [
      "0    9775\n",
      "1    2011\n",
      "Name: loan_status, dtype: int64\n",
      "              precision    recall  f1-score   support\n",
      "\n",
      " Non-Default       0.93      0.99      0.96      9194\n",
      "     Default       0.96      0.74      0.84      2592\n",
      "\n",
      "    accuracy                           0.94     11786\n",
      "   macro avg       0.94      0.87      0.90     11786\n",
      "weighted avg       0.94      0.94      0.93     11786\n",
      "\n"
     ]
    }
   ],
   "source": [
    "from sklearn.metrics import classification_report\n",
    "# Create a dataframe for the probabilities of default\n",
    "preds_df1 = pd.DataFrame(gbt_preds[:,1], columns = ['prob_default'])\n",
    "# Reassign loan status based on the threshold\n",
    "preds_df1['loan_status']=preds_df1['prob_default'].apply(lambda x: 1 if x > 0.5 else 0)\n",
    "# Print the row counts for each loan status\n",
    "print(preds_df1['loan_status'].value_counts())\n",
    "# Print the classification report\n",
    "target_names = ['Non-Default', 'Default']\n",
    "print(classification_report(y_test, preds_df1['loan_status'], target_names=target_names))\n"
   ]
  },
  {
   "cell_type": "markdown",
   "metadata": {
    "papermill": {
     "duration": 0.044241,
     "end_time": "2021-04-05T08:34:13.946305",
     "exception": false,
     "start_time": "2021-04-05T08:34:13.902064",
     "status": "completed"
    },
    "tags": []
   },
   "source": [
    "## Visualizing Performance(Using ROC Curve) of the Credit Risk Model based on Logistic Regression  "
   ]
  },
  {
   "cell_type": "code",
   "execution_count": 21,
   "metadata": {
    "execution": {
     "iopub.execute_input": "2021-04-05T08:34:14.045374Z",
     "iopub.status.busy": "2021-04-05T08:34:14.044642Z",
     "iopub.status.idle": "2021-04-05T08:34:14.335802Z",
     "shell.execute_reply": "2021-04-05T08:34:14.336387Z"
    },
    "papermill": {
     "duration": 0.34549,
     "end_time": "2021-04-05T08:34:14.336584",
     "exception": false,
     "start_time": "2021-04-05T08:34:13.991094",
     "status": "completed"
    },
    "tags": []
   },
   "outputs": [
    {
     "name": "stdout",
     "output_type": "stream",
     "text": [
      "0.8020532835567623\n"
     ]
    },
    {
     "data": {
      "image/png": "[encoded data removed]",
      "text/plain": [
       "<Figure size 432x288 with 1 Axes>"
      ]
     },
     "metadata": {
      "needs_background": "light"
     },
     "output_type": "display_data"
    }
   ],
   "source": [
    "from sklearn.linear_model import LogisticRegression \n",
    "from sklearn.metrics import roc_curve\n",
    "from sklearn.metrics import roc_auc_score\n",
    "\n",
    "# Logistic Regression\n",
    "\n",
    "clf_logistic = LogisticRegression(solver='lbfgs')\n",
    "clf_logistic.fit(X_train,y_train)\n",
    "\n",
    "# Create predictions and store them in a variable\n",
    "preds = clf_logistic.predict_proba(X_test)\n",
    "\n",
    "# Print the accuracy score the model\n",
    "print(clf_logistic.score(X_test, y_test))\n",
    "\n",
    "# Plot the ROC curve of the probabilities of default\n",
    "prob_default = preds[:, 1]\n",
    "fallout, sensitivity,thresholds = roc_curve(y_test, prob_default)\n",
    "plt.plot(fallout, sensitivity, color = 'darkorange')\n",
    "plt.plot([0, 1], [0, 1], linestyle='--')\n",
    "plt.show()\n",
    "\n",
    "# Compute the AUC and store it in a variable\n",
    "auc = roc_auc_score(y_test, prob_default)\n"
   ]
  },
  {
   "cell_type": "code",
   "execution_count": 22,
   "metadata": {
    "execution": {
     "iopub.execute_input": "2021-04-05T08:34:14.435335Z",
     "iopub.status.busy": "2021-04-05T08:34:14.434539Z",
     "iopub.status.idle": "2021-04-05T08:34:14.437781Z",
     "shell.execute_reply": "2021-04-05T08:34:14.438252Z"
    },
    "papermill": {
     "duration": 0.055559,
     "end_time": "2021-04-05T08:34:14.438381",
     "exception": false,
     "start_time": "2021-04-05T08:34:14.382822",
     "status": "completed"
    },
    "tags": []
   },
   "outputs": [
    {
     "name": "stdout",
     "output_type": "stream",
     "text": [
      "[[0.87019489 0.12980511]\n",
      " [0.75683904 0.24316096]\n",
      " [0.89967534 0.10032466]\n",
      " [0.74785167 0.25214833]\n",
      " [0.62234585 0.37765415]]\n"
     ]
    }
   ],
   "source": [
    "print(preds[:5,:])"
   ]
  },
  {
   "cell_type": "markdown",
   "metadata": {
    "papermill": {
     "duration": 0.046633,
     "end_time": "2021-04-05T08:34:14.531448",
     "exception": false,
     "start_time": "2021-04-05T08:34:14.484815",
     "status": "completed"
    },
    "tags": []
   },
   "source": [
    "## XGBoost and Cross Validation"
   ]
  },
  {
   "cell_type": "code",
   "execution_count": 23,
   "metadata": {
    "execution": {
     "iopub.execute_input": "2021-04-05T08:34:14.630404Z",
     "iopub.status.busy": "2021-04-05T08:34:14.629763Z",
     "iopub.status.idle": "2021-04-05T08:34:15.997483Z",
     "shell.execute_reply": "2021-04-05T08:34:15.998411Z"
    },
    "papermill": {
     "duration": 1.420712,
     "end_time": "2021-04-05T08:34:15.998574",
     "exception": false,
     "start_time": "2021-04-05T08:34:14.577862",
     "status": "completed"
    },
    "tags": []
   },
   "outputs": [
    {
     "data": {
      "text/plain": [
       "XGBClassifier(base_score=0.5, booster='gbtree', colsample_bylevel=1,\n",
       "              colsample_bynode=1, colsample_bytree=1, gamma=0, gpu_id=-1,\n",
       "              importance_type='gain', interaction_constraints='',\n",
       "              learning_rate=0.1, max_delta_step=0, max_depth=7,\n",
       "              min_child_weight=1, missing=nan, monotone_constraints='()',\n",
       "              n_estimators=100, n_jobs=0, num_parallel_tree=1, random_state=0,\n",
       "              reg_alpha=0, reg_lambda=1, scale_pos_weight=1, subsample=1,\n",
       "              tree_method='exact', validate_parameters=1, verbosity=None)"
      ]
     },
     "execution_count": 23,
     "metadata": {},
     "output_type": "execute_result"
    }
   ],
   "source": [
    "import xgboost as xgb\n",
    "from sklearn.model_selection import cross_val_score\n",
    "clf_gbt = xgb.XGBClassifier(learning_rate = 0.1, max_depth = 7)\n",
    "\n",
    "clf_gbt.fit(X_train, np.ravel(y_train))\n"
   ]
  },
  {
   "cell_type": "code",
   "execution_count": 24,
   "metadata": {
    "execution": {
     "iopub.execute_input": "2021-04-05T08:34:16.133760Z",
     "iopub.status.busy": "2021-04-05T08:34:16.132986Z",
     "iopub.status.idle": "2021-04-05T08:34:16.174045Z",
     "shell.execute_reply": "2021-04-05T08:34:16.175195Z"
    },
    "papermill": {
     "duration": 0.116036,
     "end_time": "2021-04-05T08:34:16.175368",
     "exception": false,
     "start_time": "2021-04-05T08:34:16.059332",
     "status": "completed"
    },
    "tags": []
   },
   "outputs": [
    {
     "name": "stdout",
     "output_type": "stream",
     "text": [
      "0.935940946886136\n"
     ]
    }
   ],
   "source": [
    "\n",
    "# Print the accuracy score the model\n",
    "print(clf_gbt.score(X_test, y_test))\n"
   ]
  },
  {
   "cell_type": "code",
   "execution_count": 25,
   "metadata": {
    "execution": {
     "iopub.execute_input": "2021-04-05T08:34:16.314832Z",
     "iopub.status.busy": "2021-04-05T08:34:16.314029Z",
     "iopub.status.idle": "2021-04-05T08:34:16.832669Z",
     "shell.execute_reply": "2021-04-05T08:34:16.833224Z"
    },
    "papermill": {
     "duration": 0.597111,
     "end_time": "2021-04-05T08:34:16.833362",
     "exception": false,
     "start_time": "2021-04-05T08:34:16.236251",
     "status": "completed"
    },
    "tags": []
   },
   "outputs": [
    {
     "data": {
      "image/png": "[encoded data removed]",
      "text/plain": [
       "<Figure size 432x288 with 1 Axes>"
      ]
     },
     "metadata": {
      "needs_background": "light"
     },
     "output_type": "display_data"
    }
   ],
   "source": [
    "# Plot the column importance for this model\n",
    "xgb.plot_importance(clf_gbt,importance_type='weight')\n",
    "plt.show()\n"
   ]
  },
  {
   "cell_type": "code",
   "execution_count": 26,
   "metadata": {
    "execution": {
     "iopub.execute_input": "2021-04-05T08:34:16.940272Z",
     "iopub.status.busy": "2021-04-05T08:34:16.939195Z",
     "iopub.status.idle": "2021-04-05T08:34:21.263658Z",
     "shell.execute_reply": "2021-04-05T08:34:21.264786Z"
    },
    "papermill": {
     "duration": 4.382593,
     "end_time": "2021-04-05T08:34:21.264978",
     "exception": false,
     "start_time": "2021-04-05T08:34:16.882385",
     "status": "completed"
    },
    "tags": []
   },
   "outputs": [
    {
     "name": "stdout",
     "output_type": "stream",
     "text": [
      "[0.93574661 0.92986425 0.93506787 0.92984838]\n",
      "Average accuracy: 0.93 (+/- 0.01)\n"
     ]
    }
   ],
   "source": [
    "\n",
    "gbt = xgb.XGBClassifier(learning_rate = 0.1, max_depth = 7)\n",
    "\n",
    "# Calculate the cross validation scores for 4 folds\n",
    "cv_scores = cross_val_score(gbt, X_train, np.ravel(y_train), cv = 4)\n",
    "\n",
    "# Print the cross validation scores\n",
    "print(cv_scores)\n",
    "\n",
    "# Print the average accuracy and standard deviation of the scores\n",
    "print(\"Average accuracy: %0.2f (+/- %0.2f)\" % (cv_scores.mean(),cv_scores.std()*2))\n"
   ]
  },
  {
   "attachments": {
    "image.png": {
     "image/png": "[encoded data removed]"
    }
   },
   "cell_type": "markdown",
   "metadata": {
    "papermill": {
     "duration": 0.064509,
     "end_time": "2021-04-05T08:34:21.395578",
     "exception": false,
     "start_time": "2021-04-05T08:34:21.331069",
     "status": "completed"
    },
    "tags": []
   },
   "source": [
    "## Calculating Expected Loss with Logistic Regression\n",
    "It's time to estimate the total expected loss given all your decisions. The data frame test_pred_df has the probability of default for each loan and that loan's value. Use these two values to calculate the expected loss for each loan. Then, you can sum those values and get the total expected loss.\n",
    "![image.png](attachment:image.png)\n",
    "\n",
    "For this exercise, you will assume that the exposure is the full value of the loan, and the loss given default is 100%. This means that a default on each the loan is a loss of the entire amount.\n",
    "\n"
   ]
  },
  {
   "cell_type": "code",
   "execution_count": 27,
   "metadata": {
    "execution": {
     "iopub.execute_input": "2021-04-05T08:34:21.537756Z",
     "iopub.status.busy": "2021-04-05T08:34:21.536601Z",
     "iopub.status.idle": "2021-04-05T08:34:21.568101Z",
     "shell.execute_reply": "2021-04-05T08:34:21.568723Z"
    },
    "papermill": {
     "duration": 0.105322,
     "end_time": "2021-04-05T08:34:21.568878",
     "exception": false,
     "start_time": "2021-04-05T08:34:21.463556",
     "status": "completed"
    },
    "tags": []
   },
   "outputs": [
    {
     "data": {
      "text/html": [
       "<div>\n",
       "<style scoped>\n",
       "    .dataframe tbody tr th:only-of-type {\n",
       "        vertical-align: middle;\n",
       "    }\n",
       "\n",
       "    .dataframe tbody tr th {\n",
       "        vertical-align: top;\n",
       "    }\n",
       "\n",
       "    .dataframe thead th {\n",
       "        text-align: right;\n",
       "    }\n",
       "</style>\n",
       "<table border=\"1\" class=\"dataframe\">\n",
       "  <thead>\n",
       "    <tr style=\"text-align: right;\">\n",
       "      <th></th>\n",
       "      <th>person_age</th>\n",
       "      <th>person_income</th>\n",
       "      <th>person_emp_length</th>\n",
       "      <th>loan_amnt</th>\n",
       "      <th>loan_int_rate</th>\n",
       "      <th>loan_percent_income</th>\n",
       "      <th>cb_person_cred_hist_length</th>\n",
       "      <th>person_home_ownership_MORTGAGE</th>\n",
       "      <th>person_home_ownership_OTHER</th>\n",
       "      <th>person_home_ownership_OWN</th>\n",
       "      <th>...</th>\n",
       "      <th>loan_intent_VENTURE</th>\n",
       "      <th>loan_grade_A</th>\n",
       "      <th>loan_grade_B</th>\n",
       "      <th>loan_grade_C</th>\n",
       "      <th>loan_grade_D</th>\n",
       "      <th>loan_grade_E</th>\n",
       "      <th>loan_grade_F</th>\n",
       "      <th>loan_grade_G</th>\n",
       "      <th>cb_person_default_on_file_N</th>\n",
       "      <th>cb_person_default_on_file_Y</th>\n",
       "    </tr>\n",
       "  </thead>\n",
       "  <tbody>\n",
       "    <tr>\n",
       "      <th>25231</th>\n",
       "      <td>29</td>\n",
       "      <td>81900</td>\n",
       "      <td>13.0</td>\n",
       "      <td>8000</td>\n",
       "      <td>7.66</td>\n",
       "      <td>0.10</td>\n",
       "      <td>10</td>\n",
       "      <td>1</td>\n",
       "      <td>0</td>\n",
       "      <td>0</td>\n",
       "      <td>...</td>\n",
       "      <td>1</td>\n",
       "      <td>1</td>\n",
       "      <td>0</td>\n",
       "      <td>0</td>\n",
       "      <td>0</td>\n",
       "      <td>0</td>\n",
       "      <td>0</td>\n",
       "      <td>0</td>\n",
       "      <td>1</td>\n",
       "      <td>0</td>\n",
       "    </tr>\n",
       "    <tr>\n",
       "      <th>25262</th>\n",
       "      <td>31</td>\n",
       "      <td>47700</td>\n",
       "      <td>2.0</td>\n",
       "      <td>12000</td>\n",
       "      <td>11.99</td>\n",
       "      <td>0.25</td>\n",
       "      <td>5</td>\n",
       "      <td>0</td>\n",
       "      <td>0</td>\n",
       "      <td>0</td>\n",
       "      <td>...</td>\n",
       "      <td>0</td>\n",
       "      <td>0</td>\n",
       "      <td>1</td>\n",
       "      <td>0</td>\n",
       "      <td>0</td>\n",
       "      <td>0</td>\n",
       "      <td>0</td>\n",
       "      <td>0</td>\n",
       "      <td>1</td>\n",
       "      <td>0</td>\n",
       "    </tr>\n",
       "    <tr>\n",
       "      <th>21498</th>\n",
       "      <td>35</td>\n",
       "      <td>48000</td>\n",
       "      <td>6.0</td>\n",
       "      <td>5000</td>\n",
       "      <td>13.48</td>\n",
       "      <td>0.10</td>\n",
       "      <td>10</td>\n",
       "      <td>1</td>\n",
       "      <td>0</td>\n",
       "      <td>0</td>\n",
       "      <td>...</td>\n",
       "      <td>0</td>\n",
       "      <td>0</td>\n",
       "      <td>0</td>\n",
       "      <td>1</td>\n",
       "      <td>0</td>\n",
       "      <td>0</td>\n",
       "      <td>0</td>\n",
       "      <td>0</td>\n",
       "      <td>0</td>\n",
       "      <td>1</td>\n",
       "    </tr>\n",
       "    <tr>\n",
       "      <th>1774</th>\n",
       "      <td>24</td>\n",
       "      <td>19200</td>\n",
       "      <td>2.0</td>\n",
       "      <td>2000</td>\n",
       "      <td>13.49</td>\n",
       "      <td>0.10</td>\n",
       "      <td>4</td>\n",
       "      <td>0</td>\n",
       "      <td>0</td>\n",
       "      <td>0</td>\n",
       "      <td>...</td>\n",
       "      <td>0</td>\n",
       "      <td>0</td>\n",
       "      <td>0</td>\n",
       "      <td>1</td>\n",
       "      <td>0</td>\n",
       "      <td>0</td>\n",
       "      <td>0</td>\n",
       "      <td>0</td>\n",
       "      <td>1</td>\n",
       "      <td>0</td>\n",
       "    </tr>\n",
       "    <tr>\n",
       "      <th>11441</th>\n",
       "      <td>23</td>\n",
       "      <td>75000</td>\n",
       "      <td>7.0</td>\n",
       "      <td>10200</td>\n",
       "      <td>6.03</td>\n",
       "      <td>0.14</td>\n",
       "      <td>2</td>\n",
       "      <td>1</td>\n",
       "      <td>0</td>\n",
       "      <td>0</td>\n",
       "      <td>...</td>\n",
       "      <td>0</td>\n",
       "      <td>1</td>\n",
       "      <td>0</td>\n",
       "      <td>0</td>\n",
       "      <td>0</td>\n",
       "      <td>0</td>\n",
       "      <td>0</td>\n",
       "      <td>0</td>\n",
       "      <td>1</td>\n",
       "      <td>0</td>\n",
       "    </tr>\n",
       "  </tbody>\n",
       "</table>\n",
       "<p>5 rows × 26 columns</p>\n",
       "</div>"
      ],
      "text/plain": [
       "       person_age  person_income  person_emp_length  loan_amnt  loan_int_rate  \\\n",
       "25231          29          81900               13.0       8000           7.66   \n",
       "25262          31          47700                2.0      12000          11.99   \n",
       "21498          35          48000                6.0       5000          13.48   \n",
       "1774           24          19200                2.0       2000          13.49   \n",
       "11441          23          75000                7.0      10200           6.03   \n",
       "\n",
       "       loan_percent_income  cb_person_cred_hist_length  \\\n",
       "25231                 0.10                          10   \n",
       "25262                 0.25                           5   \n",
       "21498                 0.10                          10   \n",
       "1774                  0.10                           4   \n",
       "11441                 0.14                           2   \n",
       "\n",
       "       person_home_ownership_MORTGAGE  person_home_ownership_OTHER  \\\n",
       "25231                               1                            0   \n",
       "25262                               0                            0   \n",
       "21498                               1                            0   \n",
       "1774                                0                            0   \n",
       "11441                               1                            0   \n",
       "\n",
       "       person_home_ownership_OWN  ...  loan_intent_VENTURE  loan_grade_A  \\\n",
       "25231                          0  ...                    1             1   \n",
       "25262                          0  ...                    0             0   \n",
       "21498                          0  ...                    0             0   \n",
       "1774                           0  ...                    0             0   \n",
       "11441                          0  ...                    0             1   \n",
       "\n",
       "       loan_grade_B  loan_grade_C  loan_grade_D  loan_grade_E  loan_grade_F  \\\n",
       "25231             0             0             0             0             0   \n",
       "25262             1             0             0             0             0   \n",
       "21498             0             1             0             0             0   \n",
       "1774              0             1             0             0             0   \n",
       "11441             0             0             0             0             0   \n",
       "\n",
       "       loan_grade_G  cb_person_default_on_file_N  cb_person_default_on_file_Y  \n",
       "25231             0                            1                            0  \n",
       "25262             0                            1                            0  \n",
       "21498             0                            0                            1  \n",
       "1774              0                            1                            0  \n",
       "11441             0                            1                            0  \n",
       "\n",
       "[5 rows x 26 columns]"
      ]
     },
     "execution_count": 27,
     "metadata": {},
     "output_type": "execute_result"
    }
   ],
   "source": [
    "X_train.head()"
   ]
  },
  {
   "cell_type": "code",
   "execution_count": 28,
   "metadata": {
    "execution": {
     "iopub.execute_input": "2021-04-05T08:34:21.712727Z",
     "iopub.status.busy": "2021-04-05T08:34:21.711509Z",
     "iopub.status.idle": "2021-04-05T08:34:21.716579Z",
     "shell.execute_reply": "2021-04-05T08:34:21.716050Z"
    },
    "papermill": {
     "duration": 0.080994,
     "end_time": "2021-04-05T08:34:21.716711",
     "exception": false,
     "start_time": "2021-04-05T08:34:21.635717",
     "status": "completed"
    },
    "tags": []
   },
   "outputs": [
    {
     "data": {
      "text/html": [
       "<div>\n",
       "<style scoped>\n",
       "    .dataframe tbody tr th:only-of-type {\n",
       "        vertical-align: middle;\n",
       "    }\n",
       "\n",
       "    .dataframe tbody tr th {\n",
       "        vertical-align: top;\n",
       "    }\n",
       "\n",
       "    .dataframe thead th {\n",
       "        text-align: right;\n",
       "    }\n",
       "</style>\n",
       "<table border=\"1\" class=\"dataframe\">\n",
       "  <thead>\n",
       "    <tr style=\"text-align: right;\">\n",
       "      <th></th>\n",
       "      <th>person_age</th>\n",
       "      <th>person_income</th>\n",
       "      <th>person_emp_length</th>\n",
       "      <th>loan_amnt</th>\n",
       "      <th>loan_int_rate</th>\n",
       "      <th>loan_percent_income</th>\n",
       "      <th>cb_person_cred_hist_length</th>\n",
       "      <th>person_home_ownership_MORTGAGE</th>\n",
       "      <th>person_home_ownership_OTHER</th>\n",
       "      <th>person_home_ownership_OWN</th>\n",
       "      <th>...</th>\n",
       "      <th>loan_intent_VENTURE</th>\n",
       "      <th>loan_grade_A</th>\n",
       "      <th>loan_grade_B</th>\n",
       "      <th>loan_grade_C</th>\n",
       "      <th>loan_grade_D</th>\n",
       "      <th>loan_grade_E</th>\n",
       "      <th>loan_grade_F</th>\n",
       "      <th>loan_grade_G</th>\n",
       "      <th>cb_person_default_on_file_N</th>\n",
       "      <th>cb_person_default_on_file_Y</th>\n",
       "    </tr>\n",
       "  </thead>\n",
       "  <tbody>\n",
       "    <tr>\n",
       "      <th>30015</th>\n",
       "      <td>47</td>\n",
       "      <td>70000</td>\n",
       "      <td>2.0</td>\n",
       "      <td>9000</td>\n",
       "      <td>12.87</td>\n",
       "      <td>0.13</td>\n",
       "      <td>14</td>\n",
       "      <td>0</td>\n",
       "      <td>0</td>\n",
       "      <td>0</td>\n",
       "      <td>...</td>\n",
       "      <td>0</td>\n",
       "      <td>0</td>\n",
       "      <td>0</td>\n",
       "      <td>1</td>\n",
       "      <td>0</td>\n",
       "      <td>0</td>\n",
       "      <td>0</td>\n",
       "      <td>0</td>\n",
       "      <td>1</td>\n",
       "      <td>0</td>\n",
       "    </tr>\n",
       "    <tr>\n",
       "      <th>22648</th>\n",
       "      <td>29</td>\n",
       "      <td>56700</td>\n",
       "      <td>14.0</td>\n",
       "      <td>11000</td>\n",
       "      <td>10.62</td>\n",
       "      <td>0.19</td>\n",
       "      <td>6</td>\n",
       "      <td>0</td>\n",
       "      <td>0</td>\n",
       "      <td>1</td>\n",
       "      <td>...</td>\n",
       "      <td>0</td>\n",
       "      <td>0</td>\n",
       "      <td>1</td>\n",
       "      <td>0</td>\n",
       "      <td>0</td>\n",
       "      <td>0</td>\n",
       "      <td>0</td>\n",
       "      <td>0</td>\n",
       "      <td>1</td>\n",
       "      <td>0</td>\n",
       "    </tr>\n",
       "    <tr>\n",
       "      <th>9634</th>\n",
       "      <td>22</td>\n",
       "      <td>63000</td>\n",
       "      <td>6.0</td>\n",
       "      <td>3700</td>\n",
       "      <td>5.42</td>\n",
       "      <td>0.06</td>\n",
       "      <td>4</td>\n",
       "      <td>1</td>\n",
       "      <td>0</td>\n",
       "      <td>0</td>\n",
       "      <td>...</td>\n",
       "      <td>0</td>\n",
       "      <td>1</td>\n",
       "      <td>0</td>\n",
       "      <td>0</td>\n",
       "      <td>0</td>\n",
       "      <td>0</td>\n",
       "      <td>0</td>\n",
       "      <td>0</td>\n",
       "      <td>1</td>\n",
       "      <td>0</td>\n",
       "    </tr>\n",
       "    <tr>\n",
       "      <th>3455</th>\n",
       "      <td>25</td>\n",
       "      <td>55000</td>\n",
       "      <td>2.0</td>\n",
       "      <td>10800</td>\n",
       "      <td>13.57</td>\n",
       "      <td>0.20</td>\n",
       "      <td>2</td>\n",
       "      <td>0</td>\n",
       "      <td>0</td>\n",
       "      <td>0</td>\n",
       "      <td>...</td>\n",
       "      <td>1</td>\n",
       "      <td>0</td>\n",
       "      <td>0</td>\n",
       "      <td>1</td>\n",
       "      <td>0</td>\n",
       "      <td>0</td>\n",
       "      <td>0</td>\n",
       "      <td>0</td>\n",
       "      <td>1</td>\n",
       "      <td>0</td>\n",
       "    </tr>\n",
       "    <tr>\n",
       "      <th>16426</th>\n",
       "      <td>26</td>\n",
       "      <td>32000</td>\n",
       "      <td>1.0</td>\n",
       "      <td>7500</td>\n",
       "      <td>13.79</td>\n",
       "      <td>0.23</td>\n",
       "      <td>3</td>\n",
       "      <td>0</td>\n",
       "      <td>0</td>\n",
       "      <td>0</td>\n",
       "      <td>...</td>\n",
       "      <td>1</td>\n",
       "      <td>0</td>\n",
       "      <td>0</td>\n",
       "      <td>1</td>\n",
       "      <td>0</td>\n",
       "      <td>0</td>\n",
       "      <td>0</td>\n",
       "      <td>0</td>\n",
       "      <td>1</td>\n",
       "      <td>0</td>\n",
       "    </tr>\n",
       "  </tbody>\n",
       "</table>\n",
       "<p>5 rows × 26 columns</p>\n",
       "</div>"
      ],
      "text/plain": [
       "       person_age  person_income  person_emp_length  loan_amnt  loan_int_rate  \\\n",
       "30015          47          70000                2.0       9000          12.87   \n",
       "22648          29          56700               14.0      11000          10.62   \n",
       "9634           22          63000                6.0       3700           5.42   \n",
       "3455           25          55000                2.0      10800          13.57   \n",
       "16426          26          32000                1.0       7500          13.79   \n",
       "\n",
       "       loan_percent_income  cb_person_cred_hist_length  \\\n",
       "30015                 0.13                          14   \n",
       "22648                 0.19                           6   \n",
       "9634                  0.06                           4   \n",
       "3455                  0.20                           2   \n",
       "16426                 0.23                           3   \n",
       "\n",
       "       person_home_ownership_MORTGAGE  person_home_ownership_OTHER  \\\n",
       "30015                               0                            0   \n",
       "22648                               0                            0   \n",
       "9634                                1                            0   \n",
       "3455                                0                            0   \n",
       "16426                               0                            0   \n",
       "\n",
       "       person_home_ownership_OWN  ...  loan_intent_VENTURE  loan_grade_A  \\\n",
       "30015                          0  ...                    0             0   \n",
       "22648                          1  ...                    0             0   \n",
       "9634                           0  ...                    0             1   \n",
       "3455                           0  ...                    1             0   \n",
       "16426                          0  ...                    1             0   \n",
       "\n",
       "       loan_grade_B  loan_grade_C  loan_grade_D  loan_grade_E  loan_grade_F  \\\n",
       "30015             0             1             0             0             0   \n",
       "22648             1             0             0             0             0   \n",
       "9634              0             0             0             0             0   \n",
       "3455              0             1             0             0             0   \n",
       "16426             0             1             0             0             0   \n",
       "\n",
       "       loan_grade_G  cb_person_default_on_file_N  cb_person_default_on_file_Y  \n",
       "30015             0                            1                            0  \n",
       "22648             0                            1                            0  \n",
       "9634              0                            1                            0  \n",
       "3455              0                            1                            0  \n",
       "16426             0                            1                            0  \n",
       "\n",
       "[5 rows x 26 columns]"
      ]
     },
     "execution_count": 28,
     "metadata": {},
     "output_type": "execute_result"
    }
   ],
   "source": [
    "X_test.head()"
   ]
  },
  {
   "cell_type": "code",
   "execution_count": 29,
   "metadata": {
    "execution": {
     "iopub.execute_input": "2021-04-05T08:34:21.826623Z",
     "iopub.status.busy": "2021-04-05T08:34:21.825840Z",
     "iopub.status.idle": "2021-04-05T08:34:21.849536Z",
     "shell.execute_reply": "2021-04-05T08:34:21.850040Z"
    },
    "papermill": {
     "duration": 0.081649,
     "end_time": "2021-04-05T08:34:21.850191",
     "exception": false,
     "start_time": "2021-04-05T08:34:21.768542",
     "status": "completed"
    },
    "tags": []
   },
   "outputs": [
    {
     "data": {
      "text/html": [
       "<div>\n",
       "<style scoped>\n",
       "    .dataframe tbody tr th:only-of-type {\n",
       "        vertical-align: middle;\n",
       "    }\n",
       "\n",
       "    .dataframe tbody tr th {\n",
       "        vertical-align: top;\n",
       "    }\n",
       "\n",
       "    .dataframe thead th {\n",
       "        text-align: right;\n",
       "    }\n",
       "</style>\n",
       "<table border=\"1\" class=\"dataframe\">\n",
       "  <thead>\n",
       "    <tr style=\"text-align: right;\">\n",
       "      <th></th>\n",
       "      <th>person_age</th>\n",
       "      <th>person_income</th>\n",
       "      <th>person_emp_length</th>\n",
       "      <th>loan_amnt</th>\n",
       "      <th>loan_int_rate</th>\n",
       "      <th>loan_percent_income</th>\n",
       "      <th>cb_person_cred_hist_length</th>\n",
       "      <th>person_home_ownership_MORTGAGE</th>\n",
       "      <th>person_home_ownership_OTHER</th>\n",
       "      <th>person_home_ownership_OWN</th>\n",
       "      <th>...</th>\n",
       "      <th>loan_intent_VENTURE</th>\n",
       "      <th>loan_grade_A</th>\n",
       "      <th>loan_grade_B</th>\n",
       "      <th>loan_grade_C</th>\n",
       "      <th>loan_grade_D</th>\n",
       "      <th>loan_grade_E</th>\n",
       "      <th>loan_grade_F</th>\n",
       "      <th>loan_grade_G</th>\n",
       "      <th>cb_person_default_on_file_N</th>\n",
       "      <th>cb_person_default_on_file_Y</th>\n",
       "    </tr>\n",
       "  </thead>\n",
       "  <tbody>\n",
       "    <tr>\n",
       "      <th>30015</th>\n",
       "      <td>47</td>\n",
       "      <td>70000</td>\n",
       "      <td>2.0</td>\n",
       "      <td>9000</td>\n",
       "      <td>12.87</td>\n",
       "      <td>0.13</td>\n",
       "      <td>14</td>\n",
       "      <td>0</td>\n",
       "      <td>0</td>\n",
       "      <td>0</td>\n",
       "      <td>...</td>\n",
       "      <td>0</td>\n",
       "      <td>0</td>\n",
       "      <td>0</td>\n",
       "      <td>1</td>\n",
       "      <td>0</td>\n",
       "      <td>0</td>\n",
       "      <td>0</td>\n",
       "      <td>0</td>\n",
       "      <td>1</td>\n",
       "      <td>0</td>\n",
       "    </tr>\n",
       "    <tr>\n",
       "      <th>22648</th>\n",
       "      <td>29</td>\n",
       "      <td>56700</td>\n",
       "      <td>14.0</td>\n",
       "      <td>11000</td>\n",
       "      <td>10.62</td>\n",
       "      <td>0.19</td>\n",
       "      <td>6</td>\n",
       "      <td>0</td>\n",
       "      <td>0</td>\n",
       "      <td>1</td>\n",
       "      <td>...</td>\n",
       "      <td>0</td>\n",
       "      <td>0</td>\n",
       "      <td>1</td>\n",
       "      <td>0</td>\n",
       "      <td>0</td>\n",
       "      <td>0</td>\n",
       "      <td>0</td>\n",
       "      <td>0</td>\n",
       "      <td>1</td>\n",
       "      <td>0</td>\n",
       "    </tr>\n",
       "    <tr>\n",
       "      <th>9634</th>\n",
       "      <td>22</td>\n",
       "      <td>63000</td>\n",
       "      <td>6.0</td>\n",
       "      <td>3700</td>\n",
       "      <td>5.42</td>\n",
       "      <td>0.06</td>\n",
       "      <td>4</td>\n",
       "      <td>1</td>\n",
       "      <td>0</td>\n",
       "      <td>0</td>\n",
       "      <td>...</td>\n",
       "      <td>0</td>\n",
       "      <td>1</td>\n",
       "      <td>0</td>\n",
       "      <td>0</td>\n",
       "      <td>0</td>\n",
       "      <td>0</td>\n",
       "      <td>0</td>\n",
       "      <td>0</td>\n",
       "      <td>1</td>\n",
       "      <td>0</td>\n",
       "    </tr>\n",
       "    <tr>\n",
       "      <th>3455</th>\n",
       "      <td>25</td>\n",
       "      <td>55000</td>\n",
       "      <td>2.0</td>\n",
       "      <td>10800</td>\n",
       "      <td>13.57</td>\n",
       "      <td>0.20</td>\n",
       "      <td>2</td>\n",
       "      <td>0</td>\n",
       "      <td>0</td>\n",
       "      <td>0</td>\n",
       "      <td>...</td>\n",
       "      <td>1</td>\n",
       "      <td>0</td>\n",
       "      <td>0</td>\n",
       "      <td>1</td>\n",
       "      <td>0</td>\n",
       "      <td>0</td>\n",
       "      <td>0</td>\n",
       "      <td>0</td>\n",
       "      <td>1</td>\n",
       "      <td>0</td>\n",
       "    </tr>\n",
       "    <tr>\n",
       "      <th>16426</th>\n",
       "      <td>26</td>\n",
       "      <td>32000</td>\n",
       "      <td>1.0</td>\n",
       "      <td>7500</td>\n",
       "      <td>13.79</td>\n",
       "      <td>0.23</td>\n",
       "      <td>3</td>\n",
       "      <td>0</td>\n",
       "      <td>0</td>\n",
       "      <td>0</td>\n",
       "      <td>...</td>\n",
       "      <td>1</td>\n",
       "      <td>0</td>\n",
       "      <td>0</td>\n",
       "      <td>1</td>\n",
       "      <td>0</td>\n",
       "      <td>0</td>\n",
       "      <td>0</td>\n",
       "      <td>0</td>\n",
       "      <td>1</td>\n",
       "      <td>0</td>\n",
       "    </tr>\n",
       "  </tbody>\n",
       "</table>\n",
       "<p>5 rows × 26 columns</p>\n",
       "</div>"
      ],
      "text/plain": [
       "       person_age  person_income  person_emp_length  loan_amnt  loan_int_rate  \\\n",
       "30015          47          70000                2.0       9000          12.87   \n",
       "22648          29          56700               14.0      11000          10.62   \n",
       "9634           22          63000                6.0       3700           5.42   \n",
       "3455           25          55000                2.0      10800          13.57   \n",
       "16426          26          32000                1.0       7500          13.79   \n",
       "\n",
       "       loan_percent_income  cb_person_cred_hist_length  \\\n",
       "30015                 0.13                          14   \n",
       "22648                 0.19                           6   \n",
       "9634                  0.06                           4   \n",
       "3455                  0.20                           2   \n",
       "16426                 0.23                           3   \n",
       "\n",
       "       person_home_ownership_MORTGAGE  person_home_ownership_OTHER  \\\n",
       "30015                               0                            0   \n",
       "22648                               0                            0   \n",
       "9634                                1                            0   \n",
       "3455                                0                            0   \n",
       "16426                               0                            0   \n",
       "\n",
       "       person_home_ownership_OWN  ...  loan_intent_VENTURE  loan_grade_A  \\\n",
       "30015                          0  ...                    0             0   \n",
       "22648                          1  ...                    0             0   \n",
       "9634                           0  ...                    0             1   \n",
       "3455                           0  ...                    1             0   \n",
       "16426                          0  ...                    1             0   \n",
       "\n",
       "       loan_grade_B  loan_grade_C  loan_grade_D  loan_grade_E  loan_grade_F  \\\n",
       "30015             0             1             0             0             0   \n",
       "22648             1             0             0             0             0   \n",
       "9634              0             0             0             0             0   \n",
       "3455              0             1             0             0             0   \n",
       "16426             0             1             0             0             0   \n",
       "\n",
       "       loan_grade_G  cb_person_default_on_file_N  cb_person_default_on_file_Y  \n",
       "30015             0                            1                            0  \n",
       "22648             0                            1                            0  \n",
       "9634              0                            1                            0  \n",
       "3455              0                            1                            0  \n",
       "16426             0                            1                            0  \n",
       "\n",
       "[5 rows x 26 columns]"
      ]
     },
     "execution_count": 29,
     "metadata": {},
     "output_type": "execute_result"
    }
   ],
   "source": [
    "test_pred_df = X_test.copy()\n",
    "test_pred_df.head()"
   ]
  },
  {
   "cell_type": "code",
   "execution_count": 30,
   "metadata": {
    "execution": {
     "iopub.execute_input": "2021-04-05T08:34:21.966565Z",
     "iopub.status.busy": "2021-04-05T08:34:21.965493Z",
     "iopub.status.idle": "2021-04-05T08:34:22.026140Z",
     "shell.execute_reply": "2021-04-05T08:34:22.025339Z"
    },
    "papermill": {
     "duration": 0.122725,
     "end_time": "2021-04-05T08:34:22.026301",
     "exception": false,
     "start_time": "2021-04-05T08:34:21.903576",
     "status": "completed"
    },
    "tags": []
   },
   "outputs": [
    {
     "name": "stdout",
     "output_type": "stream",
     "text": [
      "0.8020532835567623\n"
     ]
    }
   ],
   "source": [
    "# Logistic Regression\n",
    "\n",
    "clf_logistic = LogisticRegression(solver='lbfgs')\n",
    "clf_logistic.fit(X_train,y_train)\n",
    "\n",
    "# Create predictions and store them in a variable\n",
    "preds = clf_logistic.predict_proba(test_pred_df)\n",
    "\n",
    "# Print the accuracy score the model\n",
    "print(clf_logistic.score(test_pred_df, y_test))\n",
    "\n",
    "# Calculating Probability of Default\n",
    "prob_default = preds[:, 1]\n"
   ]
  },
  {
   "cell_type": "code",
   "execution_count": 31,
   "metadata": {
    "execution": {
     "iopub.execute_input": "2021-04-05T08:34:22.155178Z",
     "iopub.status.busy": "2021-04-05T08:34:22.154120Z",
     "iopub.status.idle": "2021-04-05T08:34:22.164991Z",
     "shell.execute_reply": "2021-04-05T08:34:22.165543Z"
    },
    "papermill": {
     "duration": 0.084859,
     "end_time": "2021-04-05T08:34:22.165698",
     "exception": false,
     "start_time": "2021-04-05T08:34:22.080839",
     "status": "completed"
    },
    "tags": []
   },
   "outputs": [
    {
     "data": {
      "text/html": [
       "<div>\n",
       "<style scoped>\n",
       "    .dataframe tbody tr th:only-of-type {\n",
       "        vertical-align: middle;\n",
       "    }\n",
       "\n",
       "    .dataframe tbody tr th {\n",
       "        vertical-align: top;\n",
       "    }\n",
       "\n",
       "    .dataframe thead th {\n",
       "        text-align: right;\n",
       "    }\n",
       "</style>\n",
       "<table border=\"1\" class=\"dataframe\">\n",
       "  <thead>\n",
       "    <tr style=\"text-align: right;\">\n",
       "      <th></th>\n",
       "      <th>person_age</th>\n",
       "      <th>person_income</th>\n",
       "      <th>person_emp_length</th>\n",
       "      <th>loan_amnt</th>\n",
       "      <th>loan_int_rate</th>\n",
       "      <th>loan_percent_income</th>\n",
       "      <th>cb_person_cred_hist_length</th>\n",
       "      <th>person_home_ownership_MORTGAGE</th>\n",
       "      <th>person_home_ownership_OTHER</th>\n",
       "      <th>person_home_ownership_OWN</th>\n",
       "      <th>...</th>\n",
       "      <th>loan_grade_B</th>\n",
       "      <th>loan_grade_C</th>\n",
       "      <th>loan_grade_D</th>\n",
       "      <th>loan_grade_E</th>\n",
       "      <th>loan_grade_F</th>\n",
       "      <th>loan_grade_G</th>\n",
       "      <th>cb_person_default_on_file_N</th>\n",
       "      <th>cb_person_default_on_file_Y</th>\n",
       "      <th>prob_default</th>\n",
       "      <th>loss_given_default</th>\n",
       "    </tr>\n",
       "  </thead>\n",
       "  <tbody>\n",
       "    <tr>\n",
       "      <th>30015</th>\n",
       "      <td>47</td>\n",
       "      <td>70000</td>\n",
       "      <td>2.0</td>\n",
       "      <td>9000</td>\n",
       "      <td>12.87</td>\n",
       "      <td>0.13</td>\n",
       "      <td>14</td>\n",
       "      <td>0</td>\n",
       "      <td>0</td>\n",
       "      <td>0</td>\n",
       "      <td>...</td>\n",
       "      <td>0</td>\n",
       "      <td>1</td>\n",
       "      <td>0</td>\n",
       "      <td>0</td>\n",
       "      <td>0</td>\n",
       "      <td>0</td>\n",
       "      <td>1</td>\n",
       "      <td>0</td>\n",
       "      <td>0.129805</td>\n",
       "      <td>1</td>\n",
       "    </tr>\n",
       "    <tr>\n",
       "      <th>22648</th>\n",
       "      <td>29</td>\n",
       "      <td>56700</td>\n",
       "      <td>14.0</td>\n",
       "      <td>11000</td>\n",
       "      <td>10.62</td>\n",
       "      <td>0.19</td>\n",
       "      <td>6</td>\n",
       "      <td>0</td>\n",
       "      <td>0</td>\n",
       "      <td>1</td>\n",
       "      <td>...</td>\n",
       "      <td>1</td>\n",
       "      <td>0</td>\n",
       "      <td>0</td>\n",
       "      <td>0</td>\n",
       "      <td>0</td>\n",
       "      <td>0</td>\n",
       "      <td>1</td>\n",
       "      <td>0</td>\n",
       "      <td>0.243161</td>\n",
       "      <td>1</td>\n",
       "    </tr>\n",
       "    <tr>\n",
       "      <th>9634</th>\n",
       "      <td>22</td>\n",
       "      <td>63000</td>\n",
       "      <td>6.0</td>\n",
       "      <td>3700</td>\n",
       "      <td>5.42</td>\n",
       "      <td>0.06</td>\n",
       "      <td>4</td>\n",
       "      <td>1</td>\n",
       "      <td>0</td>\n",
       "      <td>0</td>\n",
       "      <td>...</td>\n",
       "      <td>0</td>\n",
       "      <td>0</td>\n",
       "      <td>0</td>\n",
       "      <td>0</td>\n",
       "      <td>0</td>\n",
       "      <td>0</td>\n",
       "      <td>1</td>\n",
       "      <td>0</td>\n",
       "      <td>0.100325</td>\n",
       "      <td>1</td>\n",
       "    </tr>\n",
       "    <tr>\n",
       "      <th>3455</th>\n",
       "      <td>25</td>\n",
       "      <td>55000</td>\n",
       "      <td>2.0</td>\n",
       "      <td>10800</td>\n",
       "      <td>13.57</td>\n",
       "      <td>0.20</td>\n",
       "      <td>2</td>\n",
       "      <td>0</td>\n",
       "      <td>0</td>\n",
       "      <td>0</td>\n",
       "      <td>...</td>\n",
       "      <td>0</td>\n",
       "      <td>1</td>\n",
       "      <td>0</td>\n",
       "      <td>0</td>\n",
       "      <td>0</td>\n",
       "      <td>0</td>\n",
       "      <td>1</td>\n",
       "      <td>0</td>\n",
       "      <td>0.252148</td>\n",
       "      <td>1</td>\n",
       "    </tr>\n",
       "    <tr>\n",
       "      <th>16426</th>\n",
       "      <td>26</td>\n",
       "      <td>32000</td>\n",
       "      <td>1.0</td>\n",
       "      <td>7500</td>\n",
       "      <td>13.79</td>\n",
       "      <td>0.23</td>\n",
       "      <td>3</td>\n",
       "      <td>0</td>\n",
       "      <td>0</td>\n",
       "      <td>0</td>\n",
       "      <td>...</td>\n",
       "      <td>0</td>\n",
       "      <td>1</td>\n",
       "      <td>0</td>\n",
       "      <td>0</td>\n",
       "      <td>0</td>\n",
       "      <td>0</td>\n",
       "      <td>1</td>\n",
       "      <td>0</td>\n",
       "      <td>0.377654</td>\n",
       "      <td>1</td>\n",
       "    </tr>\n",
       "  </tbody>\n",
       "</table>\n",
       "<p>5 rows × 28 columns</p>\n",
       "</div>"
      ],
      "text/plain": [
       "       person_age  person_income  person_emp_length  loan_amnt  loan_int_rate  \\\n",
       "30015          47          70000                2.0       9000          12.87   \n",
       "22648          29          56700               14.0      11000          10.62   \n",
       "9634           22          63000                6.0       3700           5.42   \n",
       "3455           25          55000                2.0      10800          13.57   \n",
       "16426          26          32000                1.0       7500          13.79   \n",
       "\n",
       "       loan_percent_income  cb_person_cred_hist_length  \\\n",
       "30015                 0.13                          14   \n",
       "22648                 0.19                           6   \n",
       "9634                  0.06                           4   \n",
       "3455                  0.20                           2   \n",
       "16426                 0.23                           3   \n",
       "\n",
       "       person_home_ownership_MORTGAGE  person_home_ownership_OTHER  \\\n",
       "30015                               0                            0   \n",
       "22648                               0                            0   \n",
       "9634                                1                            0   \n",
       "3455                                0                            0   \n",
       "16426                               0                            0   \n",
       "\n",
       "       person_home_ownership_OWN  ...  loan_grade_B  loan_grade_C  \\\n",
       "30015                          0  ...             0             1   \n",
       "22648                          1  ...             1             0   \n",
       "9634                           0  ...             0             0   \n",
       "3455                           0  ...             0             1   \n",
       "16426                          0  ...             0             1   \n",
       "\n",
       "       loan_grade_D  loan_grade_E  loan_grade_F  loan_grade_G  \\\n",
       "30015             0             0             0             0   \n",
       "22648             0             0             0             0   \n",
       "9634              0             0             0             0   \n",
       "3455              0             0             0             0   \n",
       "16426             0             0             0             0   \n",
       "\n",
       "       cb_person_default_on_file_N  cb_person_default_on_file_Y  prob_default  \\\n",
       "30015                            1                            0      0.129805   \n",
       "22648                            1                            0      0.243161   \n",
       "9634                             1                            0      0.100325   \n",
       "3455                             1                            0      0.252148   \n",
       "16426                            1                            0      0.377654   \n",
       "\n",
       "       loss_given_default  \n",
       "30015                   1  \n",
       "22648                   1  \n",
       "9634                    1  \n",
       "3455                    1  \n",
       "16426                   1  \n",
       "\n",
       "[5 rows x 28 columns]"
      ]
     },
     "execution_count": 31,
     "metadata": {},
     "output_type": "execute_result"
    }
   ],
   "source": [
    "test_pred_df['prob_default'] = prob_default\n",
    "test_pred_df['loss_given_default'] = 1\n",
    "test_pred_df.head()"
   ]
  },
  {
   "cell_type": "code",
   "execution_count": 32,
   "metadata": {
    "execution": {
     "iopub.execute_input": "2021-04-05T08:34:22.279794Z",
     "iopub.status.busy": "2021-04-05T08:34:22.275832Z",
     "iopub.status.idle": "2021-04-05T08:34:22.285375Z",
     "shell.execute_reply": "2021-04-05T08:34:22.285967Z"
    },
    "papermill": {
     "duration": 0.067114,
     "end_time": "2021-04-05T08:34:22.286105",
     "exception": false,
     "start_time": "2021-04-05T08:34:22.218991",
     "status": "completed"
    },
    "tags": []
   },
   "outputs": [
    {
     "name": "stdout",
     "output_type": "stream",
     "text": [
      "Total expected loss:  $27,417,353.88\n"
     ]
    }
   ],
   "source": [
    "# Calculate the bank's expected loss and assign it to a new column\n",
    "test_pred_df['expected_loss'] = test_pred_df['prob_default'] * test_pred_df['loan_amnt']*test_pred_df['loss_given_default']\n",
    "\n",
    "# Calculate the total expected loss to two decimal places\n",
    "tot_exp_loss = round(np.sum(test_pred_df['expected_loss']),2)\n",
    "# Print the total expected loss\n",
    "print('Total expected loss: ', '${:,.2f}'.format(tot_exp_loss))\n"
   ]
  },
  {
   "cell_type": "code",
   "execution_count": 33,
   "metadata": {
    "execution": {
     "iopub.execute_input": "2021-04-05T08:34:22.401494Z",
     "iopub.status.busy": "2021-04-05T08:34:22.400831Z",
     "iopub.status.idle": "2021-04-05T08:34:22.424699Z",
     "shell.execute_reply": "2021-04-05T08:34:22.424156Z"
    },
    "papermill": {
     "duration": 0.084509,
     "end_time": "2021-04-05T08:34:22.424819",
     "exception": false,
     "start_time": "2021-04-05T08:34:22.340310",
     "status": "completed"
    },
    "tags": []
   },
   "outputs": [
    {
     "data": {
      "text/html": [
       "<div>\n",
       "<style scoped>\n",
       "    .dataframe tbody tr th:only-of-type {\n",
       "        vertical-align: middle;\n",
       "    }\n",
       "\n",
       "    .dataframe tbody tr th {\n",
       "        vertical-align: top;\n",
       "    }\n",
       "\n",
       "    .dataframe thead th {\n",
       "        text-align: right;\n",
       "    }\n",
       "</style>\n",
       "<table border=\"1\" class=\"dataframe\">\n",
       "  <thead>\n",
       "    <tr style=\"text-align: right;\">\n",
       "      <th></th>\n",
       "      <th>person_age</th>\n",
       "      <th>person_income</th>\n",
       "      <th>person_emp_length</th>\n",
       "      <th>loan_amnt</th>\n",
       "      <th>loan_int_rate</th>\n",
       "      <th>loan_percent_income</th>\n",
       "      <th>cb_person_cred_hist_length</th>\n",
       "      <th>person_home_ownership_MORTGAGE</th>\n",
       "      <th>person_home_ownership_OTHER</th>\n",
       "      <th>person_home_ownership_OWN</th>\n",
       "      <th>...</th>\n",
       "      <th>loan_grade_C</th>\n",
       "      <th>loan_grade_D</th>\n",
       "      <th>loan_grade_E</th>\n",
       "      <th>loan_grade_F</th>\n",
       "      <th>loan_grade_G</th>\n",
       "      <th>cb_person_default_on_file_N</th>\n",
       "      <th>cb_person_default_on_file_Y</th>\n",
       "      <th>prob_default</th>\n",
       "      <th>loss_given_default</th>\n",
       "      <th>expected_loss</th>\n",
       "    </tr>\n",
       "  </thead>\n",
       "  <tbody>\n",
       "    <tr>\n",
       "      <th>30015</th>\n",
       "      <td>47</td>\n",
       "      <td>70000</td>\n",
       "      <td>2.0</td>\n",
       "      <td>9000</td>\n",
       "      <td>12.87</td>\n",
       "      <td>0.13</td>\n",
       "      <td>14</td>\n",
       "      <td>0</td>\n",
       "      <td>0</td>\n",
       "      <td>0</td>\n",
       "      <td>...</td>\n",
       "      <td>1</td>\n",
       "      <td>0</td>\n",
       "      <td>0</td>\n",
       "      <td>0</td>\n",
       "      <td>0</td>\n",
       "      <td>1</td>\n",
       "      <td>0</td>\n",
       "      <td>0.129805</td>\n",
       "      <td>1</td>\n",
       "      <td>1168.245949</td>\n",
       "    </tr>\n",
       "    <tr>\n",
       "      <th>22648</th>\n",
       "      <td>29</td>\n",
       "      <td>56700</td>\n",
       "      <td>14.0</td>\n",
       "      <td>11000</td>\n",
       "      <td>10.62</td>\n",
       "      <td>0.19</td>\n",
       "      <td>6</td>\n",
       "      <td>0</td>\n",
       "      <td>0</td>\n",
       "      <td>1</td>\n",
       "      <td>...</td>\n",
       "      <td>0</td>\n",
       "      <td>0</td>\n",
       "      <td>0</td>\n",
       "      <td>0</td>\n",
       "      <td>0</td>\n",
       "      <td>1</td>\n",
       "      <td>0</td>\n",
       "      <td>0.243161</td>\n",
       "      <td>1</td>\n",
       "      <td>2674.770556</td>\n",
       "    </tr>\n",
       "    <tr>\n",
       "      <th>9634</th>\n",
       "      <td>22</td>\n",
       "      <td>63000</td>\n",
       "      <td>6.0</td>\n",
       "      <td>3700</td>\n",
       "      <td>5.42</td>\n",
       "      <td>0.06</td>\n",
       "      <td>4</td>\n",
       "      <td>1</td>\n",
       "      <td>0</td>\n",
       "      <td>0</td>\n",
       "      <td>...</td>\n",
       "      <td>0</td>\n",
       "      <td>0</td>\n",
       "      <td>0</td>\n",
       "      <td>0</td>\n",
       "      <td>0</td>\n",
       "      <td>1</td>\n",
       "      <td>0</td>\n",
       "      <td>0.100325</td>\n",
       "      <td>1</td>\n",
       "      <td>371.201250</td>\n",
       "    </tr>\n",
       "    <tr>\n",
       "      <th>3455</th>\n",
       "      <td>25</td>\n",
       "      <td>55000</td>\n",
       "      <td>2.0</td>\n",
       "      <td>10800</td>\n",
       "      <td>13.57</td>\n",
       "      <td>0.20</td>\n",
       "      <td>2</td>\n",
       "      <td>0</td>\n",
       "      <td>0</td>\n",
       "      <td>0</td>\n",
       "      <td>...</td>\n",
       "      <td>1</td>\n",
       "      <td>0</td>\n",
       "      <td>0</td>\n",
       "      <td>0</td>\n",
       "      <td>0</td>\n",
       "      <td>1</td>\n",
       "      <td>0</td>\n",
       "      <td>0.252148</td>\n",
       "      <td>1</td>\n",
       "      <td>2723.201955</td>\n",
       "    </tr>\n",
       "    <tr>\n",
       "      <th>16426</th>\n",
       "      <td>26</td>\n",
       "      <td>32000</td>\n",
       "      <td>1.0</td>\n",
       "      <td>7500</td>\n",
       "      <td>13.79</td>\n",
       "      <td>0.23</td>\n",
       "      <td>3</td>\n",
       "      <td>0</td>\n",
       "      <td>0</td>\n",
       "      <td>0</td>\n",
       "      <td>...</td>\n",
       "      <td>1</td>\n",
       "      <td>0</td>\n",
       "      <td>0</td>\n",
       "      <td>0</td>\n",
       "      <td>0</td>\n",
       "      <td>1</td>\n",
       "      <td>0</td>\n",
       "      <td>0.377654</td>\n",
       "      <td>1</td>\n",
       "      <td>2832.406091</td>\n",
       "    </tr>\n",
       "  </tbody>\n",
       "</table>\n",
       "<p>5 rows × 29 columns</p>\n",
       "</div>"
      ],
      "text/plain": [
       "       person_age  person_income  person_emp_length  loan_amnt  loan_int_rate  \\\n",
       "30015          47          70000                2.0       9000          12.87   \n",
       "22648          29          56700               14.0      11000          10.62   \n",
       "9634           22          63000                6.0       3700           5.42   \n",
       "3455           25          55000                2.0      10800          13.57   \n",
       "16426          26          32000                1.0       7500          13.79   \n",
       "\n",
       "       loan_percent_income  cb_person_cred_hist_length  \\\n",
       "30015                 0.13                          14   \n",
       "22648                 0.19                           6   \n",
       "9634                  0.06                           4   \n",
       "3455                  0.20                           2   \n",
       "16426                 0.23                           3   \n",
       "\n",
       "       person_home_ownership_MORTGAGE  person_home_ownership_OTHER  \\\n",
       "30015                               0                            0   \n",
       "22648                               0                            0   \n",
       "9634                                1                            0   \n",
       "3455                                0                            0   \n",
       "16426                               0                            0   \n",
       "\n",
       "       person_home_ownership_OWN  ...  loan_grade_C  loan_grade_D  \\\n",
       "30015                          0  ...             1             0   \n",
       "22648                          1  ...             0             0   \n",
       "9634                           0  ...             0             0   \n",
       "3455                           0  ...             1             0   \n",
       "16426                          0  ...             1             0   \n",
       "\n",
       "       loan_grade_E  loan_grade_F  loan_grade_G  cb_person_default_on_file_N  \\\n",
       "30015             0             0             0                            1   \n",
       "22648             0             0             0                            1   \n",
       "9634              0             0             0                            1   \n",
       "3455              0             0             0                            1   \n",
       "16426             0             0             0                            1   \n",
       "\n",
       "       cb_person_default_on_file_Y  prob_default  loss_given_default  \\\n",
       "30015                            0      0.129805                   1   \n",
       "22648                            0      0.243161                   1   \n",
       "9634                             0      0.100325                   1   \n",
       "3455                             0      0.252148                   1   \n",
       "16426                            0      0.377654                   1   \n",
       "\n",
       "       expected_loss  \n",
       "30015    1168.245949  \n",
       "22648    2674.770556  \n",
       "9634      371.201250  \n",
       "3455     2723.201955  \n",
       "16426    2832.406091  \n",
       "\n",
       "[5 rows x 29 columns]"
      ]
     },
     "execution_count": 33,
     "metadata": {},
     "output_type": "execute_result"
    }
   ],
   "source": [
    "test_pred_df.head()"
   ]
  },
  {
   "cell_type": "markdown",
   "metadata": {
    "papermill": {
     "duration": 0.054556,
     "end_time": "2021-04-05T08:34:22.534207",
     "exception": false,
     "start_time": "2021-04-05T08:34:22.479651",
     "status": "completed"
    },
    "tags": []
   },
   "source": [
    "## Using XGBoost for Predicting Loan Default Risk"
   ]
  },
  {
   "cell_type": "code",
   "execution_count": 34,
   "metadata": {
    "execution": {
     "iopub.execute_input": "2021-04-05T08:34:22.648836Z",
     "iopub.status.busy": "2021-04-05T08:34:22.648127Z",
     "iopub.status.idle": "2021-04-05T08:34:24.007258Z",
     "shell.execute_reply": "2021-04-05T08:34:24.008015Z"
    },
    "papermill": {
     "duration": 1.419404,
     "end_time": "2021-04-05T08:34:24.008185",
     "exception": false,
     "start_time": "2021-04-05T08:34:22.588781",
     "status": "completed"
    },
    "tags": []
   },
   "outputs": [
    {
     "data": {
      "text/plain": [
       "XGBClassifier(base_score=0.5, booster='gbtree', colsample_bylevel=1,\n",
       "              colsample_bynode=1, colsample_bytree=1, gamma=0, gpu_id=-1,\n",
       "              importance_type='gain', interaction_constraints='',\n",
       "              learning_rate=0.1, max_delta_step=0, max_depth=7,\n",
       "              min_child_weight=1, missing=nan, monotone_constraints='()',\n",
       "              n_estimators=100, n_jobs=0, num_parallel_tree=1, random_state=0,\n",
       "              reg_alpha=0, reg_lambda=1, scale_pos_weight=1, subsample=1,\n",
       "              tree_method='exact', validate_parameters=1, verbosity=None)"
      ]
     },
     "execution_count": 34,
     "metadata": {},
     "output_type": "execute_result"
    }
   ],
   "source": [
    "import xgboost as xgb\n",
    "from sklearn.model_selection import cross_val_score\n",
    "\n",
    "clf_gbt = xgb.XGBClassifier(learning_rate = 0.1, max_depth = 7)\n",
    "\n",
    "clf_gbt.fit(X_train, np.ravel(y_train))\n"
   ]
  },
  {
   "cell_type": "code",
   "execution_count": 35,
   "metadata": {
    "execution": {
     "iopub.execute_input": "2021-04-05T08:34:24.161066Z",
     "iopub.status.busy": "2021-04-05T08:34:24.160231Z",
     "iopub.status.idle": "2021-04-05T08:34:24.184466Z",
     "shell.execute_reply": "2021-04-05T08:34:24.185240Z"
    },
    "papermill": {
     "duration": 0.106315,
     "end_time": "2021-04-05T08:34:24.185412",
     "exception": false,
     "start_time": "2021-04-05T08:34:24.079097",
     "status": "completed"
    },
    "tags": []
   },
   "outputs": [
    {
     "data": {
      "text/html": [
       "<div>\n",
       "<style scoped>\n",
       "    .dataframe tbody tr th:only-of-type {\n",
       "        vertical-align: middle;\n",
       "    }\n",
       "\n",
       "    .dataframe tbody tr th {\n",
       "        vertical-align: top;\n",
       "    }\n",
       "\n",
       "    .dataframe thead th {\n",
       "        text-align: right;\n",
       "    }\n",
       "</style>\n",
       "<table border=\"1\" class=\"dataframe\">\n",
       "  <thead>\n",
       "    <tr style=\"text-align: right;\">\n",
       "      <th></th>\n",
       "      <th>person_age</th>\n",
       "      <th>person_income</th>\n",
       "      <th>person_emp_length</th>\n",
       "      <th>loan_amnt</th>\n",
       "      <th>loan_int_rate</th>\n",
       "      <th>loan_percent_income</th>\n",
       "      <th>cb_person_cred_hist_length</th>\n",
       "      <th>person_home_ownership_MORTGAGE</th>\n",
       "      <th>person_home_ownership_OTHER</th>\n",
       "      <th>person_home_ownership_OWN</th>\n",
       "      <th>...</th>\n",
       "      <th>loan_intent_VENTURE</th>\n",
       "      <th>loan_grade_A</th>\n",
       "      <th>loan_grade_B</th>\n",
       "      <th>loan_grade_C</th>\n",
       "      <th>loan_grade_D</th>\n",
       "      <th>loan_grade_E</th>\n",
       "      <th>loan_grade_F</th>\n",
       "      <th>loan_grade_G</th>\n",
       "      <th>cb_person_default_on_file_N</th>\n",
       "      <th>cb_person_default_on_file_Y</th>\n",
       "    </tr>\n",
       "  </thead>\n",
       "  <tbody>\n",
       "    <tr>\n",
       "      <th>30015</th>\n",
       "      <td>47</td>\n",
       "      <td>70000</td>\n",
       "      <td>2.0</td>\n",
       "      <td>9000</td>\n",
       "      <td>12.87</td>\n",
       "      <td>0.13</td>\n",
       "      <td>14</td>\n",
       "      <td>0</td>\n",
       "      <td>0</td>\n",
       "      <td>0</td>\n",
       "      <td>...</td>\n",
       "      <td>0</td>\n",
       "      <td>0</td>\n",
       "      <td>0</td>\n",
       "      <td>1</td>\n",
       "      <td>0</td>\n",
       "      <td>0</td>\n",
       "      <td>0</td>\n",
       "      <td>0</td>\n",
       "      <td>1</td>\n",
       "      <td>0</td>\n",
       "    </tr>\n",
       "    <tr>\n",
       "      <th>22648</th>\n",
       "      <td>29</td>\n",
       "      <td>56700</td>\n",
       "      <td>14.0</td>\n",
       "      <td>11000</td>\n",
       "      <td>10.62</td>\n",
       "      <td>0.19</td>\n",
       "      <td>6</td>\n",
       "      <td>0</td>\n",
       "      <td>0</td>\n",
       "      <td>1</td>\n",
       "      <td>...</td>\n",
       "      <td>0</td>\n",
       "      <td>0</td>\n",
       "      <td>1</td>\n",
       "      <td>0</td>\n",
       "      <td>0</td>\n",
       "      <td>0</td>\n",
       "      <td>0</td>\n",
       "      <td>0</td>\n",
       "      <td>1</td>\n",
       "      <td>0</td>\n",
       "    </tr>\n",
       "    <tr>\n",
       "      <th>9634</th>\n",
       "      <td>22</td>\n",
       "      <td>63000</td>\n",
       "      <td>6.0</td>\n",
       "      <td>3700</td>\n",
       "      <td>5.42</td>\n",
       "      <td>0.06</td>\n",
       "      <td>4</td>\n",
       "      <td>1</td>\n",
       "      <td>0</td>\n",
       "      <td>0</td>\n",
       "      <td>...</td>\n",
       "      <td>0</td>\n",
       "      <td>1</td>\n",
       "      <td>0</td>\n",
       "      <td>0</td>\n",
       "      <td>0</td>\n",
       "      <td>0</td>\n",
       "      <td>0</td>\n",
       "      <td>0</td>\n",
       "      <td>1</td>\n",
       "      <td>0</td>\n",
       "    </tr>\n",
       "    <tr>\n",
       "      <th>3455</th>\n",
       "      <td>25</td>\n",
       "      <td>55000</td>\n",
       "      <td>2.0</td>\n",
       "      <td>10800</td>\n",
       "      <td>13.57</td>\n",
       "      <td>0.20</td>\n",
       "      <td>2</td>\n",
       "      <td>0</td>\n",
       "      <td>0</td>\n",
       "      <td>0</td>\n",
       "      <td>...</td>\n",
       "      <td>1</td>\n",
       "      <td>0</td>\n",
       "      <td>0</td>\n",
       "      <td>1</td>\n",
       "      <td>0</td>\n",
       "      <td>0</td>\n",
       "      <td>0</td>\n",
       "      <td>0</td>\n",
       "      <td>1</td>\n",
       "      <td>0</td>\n",
       "    </tr>\n",
       "    <tr>\n",
       "      <th>16426</th>\n",
       "      <td>26</td>\n",
       "      <td>32000</td>\n",
       "      <td>1.0</td>\n",
       "      <td>7500</td>\n",
       "      <td>13.79</td>\n",
       "      <td>0.23</td>\n",
       "      <td>3</td>\n",
       "      <td>0</td>\n",
       "      <td>0</td>\n",
       "      <td>0</td>\n",
       "      <td>...</td>\n",
       "      <td>1</td>\n",
       "      <td>0</td>\n",
       "      <td>0</td>\n",
       "      <td>1</td>\n",
       "      <td>0</td>\n",
       "      <td>0</td>\n",
       "      <td>0</td>\n",
       "      <td>0</td>\n",
       "      <td>1</td>\n",
       "      <td>0</td>\n",
       "    </tr>\n",
       "  </tbody>\n",
       "</table>\n",
       "<p>5 rows × 26 columns</p>\n",
       "</div>"
      ],
      "text/plain": [
       "       person_age  person_income  person_emp_length  loan_amnt  loan_int_rate  \\\n",
       "30015          47          70000                2.0       9000          12.87   \n",
       "22648          29          56700               14.0      11000          10.62   \n",
       "9634           22          63000                6.0       3700           5.42   \n",
       "3455           25          55000                2.0      10800          13.57   \n",
       "16426          26          32000                1.0       7500          13.79   \n",
       "\n",
       "       loan_percent_income  cb_person_cred_hist_length  \\\n",
       "30015                 0.13                          14   \n",
       "22648                 0.19                           6   \n",
       "9634                  0.06                           4   \n",
       "3455                  0.20                           2   \n",
       "16426                 0.23                           3   \n",
       "\n",
       "       person_home_ownership_MORTGAGE  person_home_ownership_OTHER  \\\n",
       "30015                               0                            0   \n",
       "22648                               0                            0   \n",
       "9634                                1                            0   \n",
       "3455                                0                            0   \n",
       "16426                               0                            0   \n",
       "\n",
       "       person_home_ownership_OWN  ...  loan_intent_VENTURE  loan_grade_A  \\\n",
       "30015                          0  ...                    0             0   \n",
       "22648                          1  ...                    0             0   \n",
       "9634                           0  ...                    0             1   \n",
       "3455                           0  ...                    1             0   \n",
       "16426                          0  ...                    1             0   \n",
       "\n",
       "       loan_grade_B  loan_grade_C  loan_grade_D  loan_grade_E  loan_grade_F  \\\n",
       "30015             0             1             0             0             0   \n",
       "22648             1             0             0             0             0   \n",
       "9634              0             0             0             0             0   \n",
       "3455              0             1             0             0             0   \n",
       "16426             0             1             0             0             0   \n",
       "\n",
       "       loan_grade_G  cb_person_default_on_file_N  cb_person_default_on_file_Y  \n",
       "30015             0                            1                            0  \n",
       "22648             0                            1                            0  \n",
       "9634              0                            1                            0  \n",
       "3455              0                            1                            0  \n",
       "16426             0                            1                            0  \n",
       "\n",
       "[5 rows x 26 columns]"
      ]
     },
     "execution_count": 35,
     "metadata": {},
     "output_type": "execute_result"
    }
   ],
   "source": [
    "X_test.head()"
   ]
  },
  {
   "cell_type": "code",
   "execution_count": 36,
   "metadata": {
    "execution": {
     "iopub.execute_input": "2021-04-05T08:34:24.305949Z",
     "iopub.status.busy": "2021-04-05T08:34:24.305236Z",
     "iopub.status.idle": "2021-04-05T08:34:24.347006Z",
     "shell.execute_reply": "2021-04-05T08:34:24.348325Z"
    },
    "papermill": {
     "duration": 0.104778,
     "end_time": "2021-04-05T08:34:24.348610",
     "exception": false,
     "start_time": "2021-04-05T08:34:24.243832",
     "status": "completed"
    },
    "tags": []
   },
   "outputs": [
    {
     "name": "stdout",
     "output_type": "stream",
     "text": [
      "0.935940946886136\n"
     ]
    }
   ],
   "source": [
    "# Print the accuracy score the model\n",
    "print(clf_gbt.score(X_test, y_test))\n",
    "\n"
   ]
  },
  {
   "cell_type": "code",
   "execution_count": 37,
   "metadata": {
    "execution": {
     "iopub.execute_input": "2021-04-05T08:34:24.505005Z",
     "iopub.status.busy": "2021-04-05T08:34:24.504217Z",
     "iopub.status.idle": "2021-04-05T08:34:24.564567Z",
     "shell.execute_reply": "2021-04-05T08:34:24.565344Z"
    },
    "papermill": {
     "duration": 0.142816,
     "end_time": "2021-04-05T08:34:24.565510",
     "exception": false,
     "start_time": "2021-04-05T08:34:24.422694",
     "status": "completed"
    },
    "tags": []
   },
   "outputs": [
    {
     "data": {
      "text/html": [
       "<div>\n",
       "<style scoped>\n",
       "    .dataframe tbody tr th:only-of-type {\n",
       "        vertical-align: middle;\n",
       "    }\n",
       "\n",
       "    .dataframe tbody tr th {\n",
       "        vertical-align: top;\n",
       "    }\n",
       "\n",
       "    .dataframe thead th {\n",
       "        text-align: right;\n",
       "    }\n",
       "</style>\n",
       "<table border=\"1\" class=\"dataframe\">\n",
       "  <thead>\n",
       "    <tr style=\"text-align: right;\">\n",
       "      <th></th>\n",
       "      <th>person_age</th>\n",
       "      <th>person_income</th>\n",
       "      <th>person_emp_length</th>\n",
       "      <th>loan_amnt</th>\n",
       "      <th>loan_int_rate</th>\n",
       "      <th>loan_percent_income</th>\n",
       "      <th>cb_person_cred_hist_length</th>\n",
       "      <th>person_home_ownership_MORTGAGE</th>\n",
       "      <th>person_home_ownership_OTHER</th>\n",
       "      <th>person_home_ownership_OWN</th>\n",
       "      <th>...</th>\n",
       "      <th>loan_grade_C</th>\n",
       "      <th>loan_grade_D</th>\n",
       "      <th>loan_grade_E</th>\n",
       "      <th>loan_grade_F</th>\n",
       "      <th>loan_grade_G</th>\n",
       "      <th>cb_person_default_on_file_N</th>\n",
       "      <th>cb_person_default_on_file_Y</th>\n",
       "      <th>prob_default</th>\n",
       "      <th>loss_given_default</th>\n",
       "      <th>expected_loss</th>\n",
       "    </tr>\n",
       "  </thead>\n",
       "  <tbody>\n",
       "    <tr>\n",
       "      <th>30015</th>\n",
       "      <td>47</td>\n",
       "      <td>70000</td>\n",
       "      <td>2.0</td>\n",
       "      <td>9000</td>\n",
       "      <td>12.87</td>\n",
       "      <td>0.13</td>\n",
       "      <td>14</td>\n",
       "      <td>0</td>\n",
       "      <td>0</td>\n",
       "      <td>0</td>\n",
       "      <td>...</td>\n",
       "      <td>1</td>\n",
       "      <td>0</td>\n",
       "      <td>0</td>\n",
       "      <td>0</td>\n",
       "      <td>0</td>\n",
       "      <td>1</td>\n",
       "      <td>0</td>\n",
       "      <td>0.067312</td>\n",
       "      <td>1</td>\n",
       "      <td>1168.245949</td>\n",
       "    </tr>\n",
       "    <tr>\n",
       "      <th>22648</th>\n",
       "      <td>29</td>\n",
       "      <td>56700</td>\n",
       "      <td>14.0</td>\n",
       "      <td>11000</td>\n",
       "      <td>10.62</td>\n",
       "      <td>0.19</td>\n",
       "      <td>6</td>\n",
       "      <td>0</td>\n",
       "      <td>0</td>\n",
       "      <td>1</td>\n",
       "      <td>...</td>\n",
       "      <td>0</td>\n",
       "      <td>0</td>\n",
       "      <td>0</td>\n",
       "      <td>0</td>\n",
       "      <td>0</td>\n",
       "      <td>1</td>\n",
       "      <td>0</td>\n",
       "      <td>0.001956</td>\n",
       "      <td>1</td>\n",
       "      <td>2674.770556</td>\n",
       "    </tr>\n",
       "    <tr>\n",
       "      <th>9634</th>\n",
       "      <td>22</td>\n",
       "      <td>63000</td>\n",
       "      <td>6.0</td>\n",
       "      <td>3700</td>\n",
       "      <td>5.42</td>\n",
       "      <td>0.06</td>\n",
       "      <td>4</td>\n",
       "      <td>1</td>\n",
       "      <td>0</td>\n",
       "      <td>0</td>\n",
       "      <td>...</td>\n",
       "      <td>0</td>\n",
       "      <td>0</td>\n",
       "      <td>0</td>\n",
       "      <td>0</td>\n",
       "      <td>0</td>\n",
       "      <td>1</td>\n",
       "      <td>0</td>\n",
       "      <td>0.009433</td>\n",
       "      <td>1</td>\n",
       "      <td>371.201250</td>\n",
       "    </tr>\n",
       "    <tr>\n",
       "      <th>3455</th>\n",
       "      <td>25</td>\n",
       "      <td>55000</td>\n",
       "      <td>2.0</td>\n",
       "      <td>10800</td>\n",
       "      <td>13.57</td>\n",
       "      <td>0.20</td>\n",
       "      <td>2</td>\n",
       "      <td>0</td>\n",
       "      <td>0</td>\n",
       "      <td>0</td>\n",
       "      <td>...</td>\n",
       "      <td>1</td>\n",
       "      <td>0</td>\n",
       "      <td>0</td>\n",
       "      <td>0</td>\n",
       "      <td>0</td>\n",
       "      <td>1</td>\n",
       "      <td>0</td>\n",
       "      <td>0.077760</td>\n",
       "      <td>1</td>\n",
       "      <td>2723.201955</td>\n",
       "    </tr>\n",
       "    <tr>\n",
       "      <th>16426</th>\n",
       "      <td>26</td>\n",
       "      <td>32000</td>\n",
       "      <td>1.0</td>\n",
       "      <td>7500</td>\n",
       "      <td>13.79</td>\n",
       "      <td>0.23</td>\n",
       "      <td>3</td>\n",
       "      <td>0</td>\n",
       "      <td>0</td>\n",
       "      <td>0</td>\n",
       "      <td>...</td>\n",
       "      <td>1</td>\n",
       "      <td>0</td>\n",
       "      <td>0</td>\n",
       "      <td>0</td>\n",
       "      <td>0</td>\n",
       "      <td>1</td>\n",
       "      <td>0</td>\n",
       "      <td>0.550950</td>\n",
       "      <td>1</td>\n",
       "      <td>2832.406091</td>\n",
       "    </tr>\n",
       "  </tbody>\n",
       "</table>\n",
       "<p>5 rows × 29 columns</p>\n",
       "</div>"
      ],
      "text/plain": [
       "       person_age  person_income  person_emp_length  loan_amnt  loan_int_rate  \\\n",
       "30015          47          70000                2.0       9000          12.87   \n",
       "22648          29          56700               14.0      11000          10.62   \n",
       "9634           22          63000                6.0       3700           5.42   \n",
       "3455           25          55000                2.0      10800          13.57   \n",
       "16426          26          32000                1.0       7500          13.79   \n",
       "\n",
       "       loan_percent_income  cb_person_cred_hist_length  \\\n",
       "30015                 0.13                          14   \n",
       "22648                 0.19                           6   \n",
       "9634                  0.06                           4   \n",
       "3455                  0.20                           2   \n",
       "16426                 0.23                           3   \n",
       "\n",
       "       person_home_ownership_MORTGAGE  person_home_ownership_OTHER  \\\n",
       "30015                               0                            0   \n",
       "22648                               0                            0   \n",
       "9634                                1                            0   \n",
       "3455                                0                            0   \n",
       "16426                               0                            0   \n",
       "\n",
       "       person_home_ownership_OWN  ...  loan_grade_C  loan_grade_D  \\\n",
       "30015                          0  ...             1             0   \n",
       "22648                          1  ...             0             0   \n",
       "9634                           0  ...             0             0   \n",
       "3455                           0  ...             1             0   \n",
       "16426                          0  ...             1             0   \n",
       "\n",
       "       loan_grade_E  loan_grade_F  loan_grade_G  cb_person_default_on_file_N  \\\n",
       "30015             0             0             0                            1   \n",
       "22648             0             0             0                            1   \n",
       "9634              0             0             0                            1   \n",
       "3455              0             0             0                            1   \n",
       "16426             0             0             0                            1   \n",
       "\n",
       "       cb_person_default_on_file_Y  prob_default  loss_given_default  \\\n",
       "30015                            0      0.067312                   1   \n",
       "22648                            0      0.001956                   1   \n",
       "9634                             0      0.009433                   1   \n",
       "3455                             0      0.077760                   1   \n",
       "16426                            0      0.550950                   1   \n",
       "\n",
       "       expected_loss  \n",
       "30015    1168.245949  \n",
       "22648    2674.770556  \n",
       "9634      371.201250  \n",
       "3455     2723.201955  \n",
       "16426    2832.406091  \n",
       "\n",
       "[5 rows x 29 columns]"
      ]
     },
     "execution_count": 37,
     "metadata": {},
     "output_type": "execute_result"
    }
   ],
   "source": [
    "# Create predictions and store them in a variable\n",
    "preds = clf_gbt.predict_proba(X_test)\n",
    "\n",
    "# Calculating Probability of Default\n",
    "prob_default = preds[:, 1]\n",
    "\n",
    "test_pred_df['prob_default'] = prob_default\n",
    "test_pred_df['loss_given_default'] = 1\n",
    "test_pred_df.head()"
   ]
  },
  {
   "cell_type": "code",
   "execution_count": 38,
   "metadata": {
    "execution": {
     "iopub.execute_input": "2021-04-05T08:34:24.720460Z",
     "iopub.status.busy": "2021-04-05T08:34:24.719685Z",
     "iopub.status.idle": "2021-04-05T08:34:24.722798Z",
     "shell.execute_reply": "2021-04-05T08:34:24.723384Z"
    },
    "papermill": {
     "duration": 0.084991,
     "end_time": "2021-04-05T08:34:24.723533",
     "exception": false,
     "start_time": "2021-04-05T08:34:24.638542",
     "status": "completed"
    },
    "tags": []
   },
   "outputs": [
    {
     "name": "stdout",
     "output_type": "stream",
     "text": [
      "Total expected loss:  $26,852,450.14\n"
     ]
    }
   ],
   "source": [
    "# Calculate the bank's expected loss and assign it to a new column\n",
    "test_pred_df['expected_loss'] = test_pred_df['prob_default'] * test_pred_df['loan_amnt']*test_pred_df['loss_given_default']\n",
    "\n",
    "# Calculate the total expected loss to two decimal places\n",
    "tot_exp_loss = round(np.sum(test_pred_df['expected_loss']),2)\n",
    "# Print the total expected loss\n",
    "print('Total expected loss: ', '${:,.2f}'.format(tot_exp_loss))\n"
   ]
  }
 ],
 "metadata": {
  "kernelspec": {
   "display_name": "Python 3",
   "language": "python",
   "name": "python3"
  },
  "language_info": {
   "codemirror_mode": {
    "name": "ipython",
    "version": 3
   },
   "file_extension": ".py",
   "mimetype": "text/x-python",
   "name": "python",
   "nbconvert_exporter": "python",
   "pygments_lexer": "ipython3",
   "version": "3.7.6"
  },
  "papermill": {
   "duration": 24.992865,
   "end_time": "2021-04-05T08:34:25.811133",
   "environment_variables": {},
   "exception": null,
   "input_path": "__notebook__.ipynb",
   "output_path": "__notebook__.ipynb",
   "parameters": {},
   "start_time": "2021-04-05T08:34:00.818268",
   "version": "2.1.0"
  }
 },
 "nbformat": 4,
 "nbformat_minor": 4
}
